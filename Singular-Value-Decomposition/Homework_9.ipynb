{
 "cells": [
  {
   "cell_type": "markdown",
   "id": "bf985f3b",
   "metadata": {},
   "source": [
    "# 5(a)"
   ]
  },
  {
   "cell_type": "code",
   "execution_count": 1,
   "id": "35aea1f5",
   "metadata": {},
   "outputs": [
    {
     "data": {
      "text/plain": [
       "LinearAlgebra.QRCompactWY{Float64, Matrix{Float64}}\n",
       "Q factor:\n",
       "6×6 LinearAlgebra.QRCompactWYQ{Float64, Matrix{Float64}}:\n",
       " -0.130454  -0.182115   -0.522896    -0.588847   -0.468213   -0.332313\n",
       " -0.40375   -0.695936   -0.245975     0.208799    0.482998   -0.123576\n",
       " -0.16098   -0.0758018  -0.238297     0.701111   -0.634597    0.131468\n",
       " -0.777726   0.287606    0.427402    -0.0243033  -0.0961503  -0.34629\n",
       " -0.192704   0.623909   -0.653158     0.121898    0.361723    0.035831\n",
       " -0.389948  -0.0691483  -0.00166152  -0.320399   -0.0684702   0.857795\n",
       "R factor:\n",
       "3×3 Matrix{Float64}:\n",
       " -1.24283  -0.673434  -1.40563\n",
       "  0.0       0.302765  -0.226804\n",
       "  0.0       0.0       -0.822876"
      ]
     },
     "execution_count": 1,
     "metadata": {},
     "output_type": "execute_result"
    }
   ],
   "source": [
    "using LinearAlgebra\n",
    "A = rand(6,3)\n",
    "Q, R = qr(A)"
   ]
  },
  {
   "cell_type": "code",
   "execution_count": 2,
   "id": "2ba8d056",
   "metadata": {},
   "outputs": [
    {
     "data": {
      "text/plain": [
       "6×3 Matrix{Float64}:\n",
       " -0.130454  -0.182115   -0.522896\n",
       " -0.40375   -0.695936   -0.245975\n",
       " -0.16098   -0.0758018  -0.238297\n",
       " -0.777726   0.287606    0.427402\n",
       " -0.192704   0.623909   -0.653158\n",
       " -0.389948  -0.0691483  -0.00166152"
      ]
     },
     "execution_count": 2,
     "metadata": {},
     "output_type": "execute_result"
    }
   ],
   "source": [
    "Q_0=Q[:,1:3]"
   ]
  },
  {
   "cell_type": "code",
   "execution_count": 3,
   "id": "02afb96f",
   "metadata": {},
   "outputs": [
    {
     "data": {
      "text/plain": [
       "3×3 Matrix{Float64}:\n",
       " -2.08466  3.99927e-16   5.17352e-28\n",
       "  0.0      0.626175      5.5269e-13\n",
       "  0.0      0.0          -0.237203"
      ]
     },
     "execution_count": 3,
     "metadata": {},
     "output_type": "execute_result"
    }
   ],
   "source": [
    "Rvals=zeros((3, 3, 30))\n",
    "Qvals=zeros(((3, 3, 30)))\n",
    "Rinp = R'\n",
    "for i=1:30\n",
    "    Qvals[:,:,i], Rvals[:,:,i] = qr(Rinp)\n",
    "    Rinp = Rvals[:,:,i]\n",
    "    Rinp = Rinp'\n",
    "end\n",
    "S_new=Rinp'"
   ]
  },
  {
   "cell_type": "code",
   "execution_count": 4,
   "id": "3d6810f2",
   "metadata": {},
   "outputs": [],
   "source": [
    "V = Qvals[:,:,1]\n",
    "for i = 2:30\n",
    "    if i%2==1\n",
    "     V=V*Qvals[:,:,i]\n",
    "    end\n",
    "end\n",
    "\n",
    "U = Q_0\n",
    "for i = 1:30\n",
    "    if i%2==0\n",
    "     U=U*Qvals[:,:,i]\n",
    "    end\n",
    "end\n"
   ]
  },
  {
   "cell_type": "code",
   "execution_count": 5,
   "id": "8856b637",
   "metadata": {},
   "outputs": [
    {
     "data": {
      "text/plain": [
       "SVD{Float64, Float64, Matrix{Float64}}\n",
       "U factor:\n",
       "6×3 Matrix{Float64}:\n",
       " -0.289493   0.483855  -0.0753798\n",
       " -0.48635    0.429116   0.535881\n",
       " -0.228341   0.188331  -0.0289355\n",
       " -0.600162  -0.712916   0.0424647\n",
       " -0.356347   0.180035  -0.832837\n",
       " -0.374618  -0.07492    0.104364\n",
       "singular values:\n",
       "3-element Vector{Float64}:\n",
       " 2.0846594665473366\n",
       " 0.6261745954964919\n",
       " 0.23720270870773083\n",
       "Vt factor:\n",
       "3×3 Matrix{Float64}:\n",
       " -0.5678    -0.301935  -0.765793\n",
       " -0.56027   -0.539814   0.628251\n",
       "  0.603076  -0.785771  -0.137341"
      ]
     },
     "execution_count": 5,
     "metadata": {},
     "output_type": "execute_result"
    }
   ],
   "source": [
    "svd_U,svd_s,svd_Vt = svd(A)"
   ]
  },
  {
   "cell_type": "code",
   "execution_count": 6,
   "id": "8598646b",
   "metadata": {},
   "outputs": [
    {
     "name": "stdout",
     "output_type": "stream",
     "text": [
      "V value obtained using QRSVD Algorithm:"
     ]
    },
    {
     "data": {
      "text/plain": [
       "3×3 Matrix{Float64}:\n",
       " -0.5678    -0.56027   -0.603076\n",
       " -0.301935  -0.539814   0.785771\n",
       " -0.765793   0.628251   0.137341"
      ]
     },
     "execution_count": 6,
     "metadata": {},
     "output_type": "execute_result"
    }
   ],
   "source": [
    "print(\"V value obtained using QRSVD Algorithm:\")\n",
    "V"
   ]
  },
  {
   "cell_type": "code",
   "execution_count": 7,
   "id": "338df550",
   "metadata": {},
   "outputs": [
    {
     "name": "stdout",
     "output_type": "stream",
     "text": [
      "V value obtained using svd(A):"
     ]
    },
    {
     "data": {
      "text/plain": [
       "3×3 adjoint(::Matrix{Float64}) with eltype Float64:\n",
       " -0.5678    -0.56027    0.603076\n",
       " -0.301935  -0.539814  -0.785771\n",
       " -0.765793   0.628251  -0.137341"
      ]
     },
     "execution_count": 7,
     "metadata": {},
     "output_type": "execute_result"
    }
   ],
   "source": [
    "print(\"V value obtained using svd(A):\")\n",
    "svd_Vt"
   ]
  },
  {
   "cell_type": "code",
   "execution_count": 12,
   "id": "e5b821c5",
   "metadata": {},
   "outputs": [
    {
     "name": "stdout",
     "output_type": "stream",
     "text": [
      "U value obtained using QRSVD Algorithm:"
     ]
    },
    {
     "data": {
      "text/plain": [
       "6×3 Matrix{Float64}:\n",
       " 0.289493   0.483855  -0.0753798\n",
       " 0.48635    0.429116   0.535881\n",
       " 0.228341   0.188331  -0.0289355\n",
       " 0.600162  -0.712916   0.0424647\n",
       " 0.356347   0.180035  -0.832837\n",
       " 0.374618  -0.07492    0.104364"
      ]
     },
     "execution_count": 12,
     "metadata": {},
     "output_type": "execute_result"
    }
   ],
   "source": [
    "print(\"U value obtained using QRSVD Algorithm:\")\n",
    "U"
   ]
  },
  {
   "cell_type": "code",
   "execution_count": 13,
   "id": "46bcbfd3",
   "metadata": {},
   "outputs": [
    {
     "name": "stdout",
     "output_type": "stream",
     "text": [
      "U value obtained using svd(A):"
     ]
    },
    {
     "data": {
      "text/plain": [
       "6×3 Matrix{Float64}:\n",
       " -0.289493   0.483855  -0.0753798\n",
       " -0.48635    0.429116   0.535881\n",
       " -0.228341   0.188331  -0.0289355\n",
       " -0.600162  -0.712916   0.0424647\n",
       " -0.356347   0.180035  -0.832837\n",
       " -0.374618  -0.07492    0.104364"
      ]
     },
     "execution_count": 13,
     "metadata": {},
     "output_type": "execute_result"
    }
   ],
   "source": [
    "print(\"U value obtained using svd(A):\")\n",
    "svd_U"
   ]
  },
  {
   "cell_type": "code",
   "execution_count": 14,
   "id": "f3c1e28b",
   "metadata": {},
   "outputs": [
    {
     "name": "stdout",
     "output_type": "stream",
     "text": [
      "S values obtained using QRSVD Algorithm:"
     ]
    },
    {
     "data": {
      "text/plain": [
       "3×3 Diagonal{Float64, Vector{Float64}}:\n",
       " -2.08466   ⋅          ⋅ \n",
       "   ⋅       0.626175    ⋅ \n",
       "   ⋅        ⋅        -0.237203"
      ]
     },
     "execution_count": 14,
     "metadata": {},
     "output_type": "execute_result"
    }
   ],
   "source": [
    "print(\"S values obtained using QRSVD Algorithm:\")\n",
    "Diagonal(S_new)"
   ]
  },
  {
   "cell_type": "code",
   "execution_count": 15,
   "id": "b2dbc21c",
   "metadata": {},
   "outputs": [
    {
     "name": "stdout",
     "output_type": "stream",
     "text": [
      "S values obtained using svd(A):"
     ]
    },
    {
     "data": {
      "text/plain": [
       "3×3 Diagonal{Float64, Vector{Float64}}:\n",
       " 2.08466   ⋅         ⋅ \n",
       "  ⋅       0.626175   ⋅ \n",
       "  ⋅        ⋅        0.237203"
      ]
     },
     "execution_count": 15,
     "metadata": {},
     "output_type": "execute_result"
    }
   ],
   "source": [
    "print(\"S values obtained using svd(A):\")\n",
    "Diagonal(svd_s)"
   ]
  },
  {
   "cell_type": "markdown",
   "id": "bd2cd46a",
   "metadata": {},
   "source": [
    "Thus by comparing the QRSVD results with svd(A)<br>\n",
    "we can see that Q<sub>1</sub>Q<sub>3</sub>....Q<sub>2k+1</sub> converges to V<br>\n",
    "Q<sub>0</sub>Q<sub>2</sub>....Q<sub>2k</sub> converges to U<br>\n",
    "R<sub>2k</sub> converges to ∑ (here denoted as S)<br>"
   ]
  }
 ],
 "metadata": {
  "kernelspec": {
   "display_name": "Julia 1.6.2",
   "language": "julia",
   "name": "julia-1.6"
  },
  "language_info": {
   "file_extension": ".jl",
   "mimetype": "application/julia",
   "name": "julia",
   "version": "1.6.2"
  }
 },
 "nbformat": 4,
 "nbformat_minor": 5
}
