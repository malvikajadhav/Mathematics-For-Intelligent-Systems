{
 "cells": [
  {
   "cell_type": "markdown",
   "id": "63dc5d7a",
   "metadata": {},
   "source": [
    "# A12.1 (a)"
   ]
  },
  {
   "cell_type": "code",
   "execution_count": 6,
   "id": "14c51b5b",
   "metadata": {},
   "outputs": [
    {
     "data": {
      "text/plain": [
       "20×10 Matrix{Float64}:\n",
       " -2.22594    -0.730973   -0.532295  …  -1.61737    -1.84818    1.21025\n",
       " -0.554591   -0.468117    2.21878       0.530708   -0.435208  -0.371985\n",
       " -0.0955603  -0.114154   -0.857354      0.18077     0.512513  -0.0415953\n",
       "  0.291862    0.394806   -0.395661      0.315001   -0.394096  -0.717001\n",
       "  0.150994    0.72153     0.303278      0.766009   -1.39881    0.127032\n",
       " -0.471512   -0.795096    1.73565   …  -0.898204    0.151703  -0.689566\n",
       " -1.28093     1.36352    -2.36618      -0.0771968   2.42042    0.0637638\n",
       "  0.912047    0.495617   -0.586587      0.998792    0.953727   0.984028\n",
       "  1.1472     -2.94529     1.667         1.11369    -0.861296   0.496303\n",
       "  0.550802    1.34032     0.508817      2.71619    -0.546906   0.029466\n",
       "  0.214882   -0.445897   -0.628175  …  -1.21474     0.970407   1.69917\n",
       "  0.625659   -0.407881    0.310379      1.25075     0.65807   -0.711622\n",
       " -0.435258    1.19208     2.37195      -0.429083    1.1581     1.09157\n",
       " -0.53549     0.838528   -1.00839      -0.584538   -0.670309  -1.75935\n",
       "  0.644134    0.940229   -2.09954       0.0774915   0.541497  -0.462112\n",
       " -1.68867    -1.47919     1.27407   …   0.394169    0.352945  -0.974849\n",
       " -0.190953   -0.0165748  -1.94294       0.0811382   0.1157    -1.11082\n",
       "  0.93204     0.203353   -1.50332      -0.0369431   0.895861  -0.338259\n",
       "  0.861301    1.05748     0.390172     -0.801081   -0.427637   0.664282\n",
       "  0.758789   -1.34541    -1.5173        1.13893    -0.337915  -1.75081"
      ]
     },
     "execution_count": 6,
     "metadata": {},
     "output_type": "execute_result"
    }
   ],
   "source": [
    "using LinearAlgebra\n",
    "A = randn(20,10)"
   ]
  },
  {
   "cell_type": "code",
   "execution_count": 3,
   "id": "3906b1f4",
   "metadata": {},
   "outputs": [
    {
     "data": {
      "text/plain": [
       "20×1 Matrix{Float64}:\n",
       "  0.9131859659001478\n",
       " -0.6669801741011908\n",
       " -1.206061352246283\n",
       "  0.4730096991845767\n",
       " -0.2425439583540643\n",
       "  0.40176924184215856\n",
       " -1.9233693397566594\n",
       "  0.1711942934973721\n",
       " -0.5472670574914832\n",
       "  0.3007063010074322\n",
       "  2.283763536357731\n",
       "  1.5673271520065593\n",
       " -1.113614928128954\n",
       "  1.2177144932761566\n",
       " -1.6475754950451842\n",
       "  0.15502656688850908\n",
       "  1.4277890005619465\n",
       "  0.5836655285181357\n",
       "  0.4849647053452569\n",
       " -0.6744481628434149"
      ]
     },
     "execution_count": 3,
     "metadata": {},
     "output_type": "execute_result"
    }
   ],
   "source": [
    "b = randn(20,1)"
   ]
  },
  {
   "cell_type": "code",
   "execution_count": 4,
   "id": "5636983c",
   "metadata": {},
   "outputs": [
    {
     "data": {
      "text/plain": [
       "14.021788446320775"
      ]
     },
     "execution_count": 4,
     "metadata": {},
     "output_type": "execute_result"
    }
   ],
   "source": [
    "x̂_1 = A\\b\n",
    "val_x̂_1=norm(A*x̂_1-b)^2"
   ]
  },
  {
   "cell_type": "code",
   "execution_count": 5,
   "id": "831cbf61",
   "metadata": {},
   "outputs": [
    {
     "data": {
      "text/plain": [
       "14.021788446320775"
      ]
     },
     "execution_count": 5,
     "metadata": {},
     "output_type": "execute_result"
    }
   ],
   "source": [
    "x̂_2 = inv(A'*A)*(A'*b)\n",
    "norm(A*x̂_2-b)^2"
   ]
  },
  {
   "cell_type": "code",
   "execution_count": 6,
   "id": "6913c590",
   "metadata": {},
   "outputs": [
    {
     "data": {
      "text/plain": [
       "14.021788446320775"
      ]
     },
     "execution_count": 6,
     "metadata": {},
     "output_type": "execute_result"
    }
   ],
   "source": [
    "x̂_3=pinv(A)*b\n",
    "norm(A*x̂_3-b)^2"
   ]
  },
  {
   "cell_type": "markdown",
   "id": "e302e588",
   "metadata": {},
   "source": [
    "### As we can see all values of x̂ generated using different methods are very close to each other."
   ]
  },
  {
   "cell_type": "markdown",
   "id": "05659b57",
   "metadata": {},
   "source": [
    "# A12.1 (b)"
   ]
  },
  {
   "cell_type": "code",
   "execution_count": 7,
   "id": "1e8aea65",
   "metadata": {},
   "outputs": [
    {
     "data": {
      "text/plain": [
       "10×1 Matrix{Float64}:\n",
       "  1.582865367736138\n",
       " -0.7297125448612269\n",
       " -0.06977852509169732\n",
       " -0.47509348698456827\n",
       " -0.43963046253682103\n",
       "  0.8227488947365944\n",
       "  0.3589410538877154\n",
       " -1.378440835349625\n",
       " -1.0771831101509002\n",
       " -0.8895051850958401"
      ]
     },
     "execution_count": 7,
     "metadata": {},
     "output_type": "execute_result"
    }
   ],
   "source": [
    "δ = randn(10,1)"
   ]
  },
  {
   "cell_type": "code",
   "execution_count": 8,
   "id": "c6bf118b",
   "metadata": {},
   "outputs": [
    {
     "data": {
      "text/plain": [
       "10×1 Matrix{Float64}:\n",
       "  1.5828653677361385e-6\n",
       " -7.297125448612273e-7\n",
       " -6.977852509169735e-8\n",
       " -4.7509348698456843e-7\n",
       " -4.396304625368212e-7\n",
       "  8.227488947365947e-7\n",
       "  3.5894105388771553e-7\n",
       " -1.3784408353496254e-6\n",
       " -1.0771831101509006e-6\n",
       " -8.895051850958404e-7"
      ]
     },
     "execution_count": 8,
     "metadata": {},
     "output_type": "execute_result"
    }
   ],
   "source": [
    "δ_1 = δ*10^-2\n",
    "δ_2 = δ*10^-3\n",
    "δ_3 = δ*10^-4\n",
    "δ_4 = δ*10^-5\n",
    "δ_5 = δ*10^-6"
   ]
  },
  {
   "cell_type": "code",
   "execution_count": 9,
   "id": "e2eefbde",
   "metadata": {},
   "outputs": [
    {
     "data": {
      "text/plain": [
       "14.021788446441786"
      ]
     },
     "execution_count": 9,
     "metadata": {},
     "output_type": "execute_result"
    }
   ],
   "source": [
    "val_1=norm(A*(x̂_1 + δ_1) - b)^2\n",
    "val_2=norm(A*(x̂_1 + δ_2) - b)^2\n",
    "val_3=norm(A*(x̂_1 + δ_3) - b)^2\n",
    "val_4=norm(A*(x̂_1 + δ_4) - b)^2\n",
    "val_5=norm(A*(x̂_1 + δ_5) - b)^2"
   ]
  },
  {
   "cell_type": "markdown",
   "id": "2c2ec97d",
   "metadata": {},
   "source": [
    "#### we have considered val_x̂_1 from the previous question A12.1(a)"
   ]
  },
  {
   "cell_type": "code",
   "execution_count": 10,
   "id": "245ee375",
   "metadata": {},
   "outputs": [
    {
     "data": {
      "text/plain": [
       "true"
      ]
     },
     "execution_count": 10,
     "metadata": {},
     "output_type": "execute_result"
    }
   ],
   "source": [
    "val_1 > val_x̂_1"
   ]
  },
  {
   "cell_type": "code",
   "execution_count": 11,
   "id": "321874da",
   "metadata": {},
   "outputs": [
    {
     "data": {
      "text/plain": [
       "true"
      ]
     },
     "execution_count": 11,
     "metadata": {},
     "output_type": "execute_result"
    }
   ],
   "source": [
    "val_2 > val_x̂_1"
   ]
  },
  {
   "cell_type": "code",
   "execution_count": 12,
   "id": "79453bcc",
   "metadata": {},
   "outputs": [
    {
     "data": {
      "text/plain": [
       "true"
      ]
     },
     "execution_count": 12,
     "metadata": {},
     "output_type": "execute_result"
    }
   ],
   "source": [
    "val_3 > val_x̂_1"
   ]
  },
  {
   "cell_type": "code",
   "execution_count": 13,
   "id": "397380a0",
   "metadata": {},
   "outputs": [
    {
     "data": {
      "text/plain": [
       "true"
      ]
     },
     "execution_count": 13,
     "metadata": {},
     "output_type": "execute_result"
    }
   ],
   "source": [
    "val_4 > val_x̂_1"
   ]
  },
  {
   "cell_type": "code",
   "execution_count": 14,
   "id": "bfc8147f",
   "metadata": {},
   "outputs": [
    {
     "data": {
      "text/plain": [
       "true"
      ]
     },
     "execution_count": 14,
     "metadata": {},
     "output_type": "execute_result"
    }
   ],
   "source": [
    "val_5 > val_x̂_1"
   ]
  },
  {
   "cell_type": "markdown",
   "id": "1b517603",
   "metadata": {},
   "source": [
    "### Thus we can see that the expected inequatity  ||A(x̂ + δ) − b||^2  > ||Ax̂ − b||^2 is verified."
   ]
  },
  {
   "cell_type": "markdown",
   "id": "f127ad13",
   "metadata": {},
   "source": [
    "# A12.2"
   ]
  },
  {
   "cell_type": "code",
   "execution_count": 15,
   "id": "db209723",
   "metadata": {},
   "outputs": [
    {
     "data": {
      "text/plain": [
       "100000×100 Matrix{Float64}:\n",
       " -1.21475    -0.563822   -0.429748   …  -0.071057   -1.1685     -0.84826\n",
       "  0.506539    0.396134   -0.796634       0.0169777   1.35287    -1.03468\n",
       "  0.217337    0.686375   -1.06568       -0.653217    0.447492    1.80255\n",
       "  0.812946   -0.232145   -1.05285       -0.0605392   0.870079    0.221127\n",
       "  1.29096     1.15951     0.188939      -1.4307     -0.988712    1.48136\n",
       " -0.292039    0.435821    0.21608    …  -0.501165    2.80849     1.42283\n",
       " -1.96125    -0.665909    0.0126434      0.899118   -1.6424     -0.403573\n",
       "  1.55109    -0.933064    0.227414       0.653643   -0.608385   -0.195192\n",
       "  0.422884    0.0676013   0.528501       0.224412    0.799214   -0.170018\n",
       "  0.484221    0.0356477  -0.131675       2.74185    -0.949901    2.19405\n",
       "  0.833182    0.673738    1.79588    …  -0.365133    0.464319    0.922109\n",
       "  0.464494    0.683182   -0.0417324     -1.52525     0.0102295  -0.147723\n",
       "  1.64135     1.74095     1.31802        0.380576    1.03256     0.531603\n",
       "  ⋮                                  ⋱                          \n",
       "  0.162483    0.665367    0.0760583     -0.569262    0.360488    0.259389\n",
       "  0.283726   -0.380356   -0.0409254      0.445054   -0.264026    0.303501\n",
       " -1.18718     1.22663    -1.01503    …   1.48844     0.459011    1.10102\n",
       "  0.0191889  -0.100032    1.35447        0.537127    0.639143   -0.678113\n",
       " -0.357874   -0.798296    0.235552       0.718992   -0.493099    0.0454649\n",
       "  0.538701    0.461127   -0.432107      -0.56954    -0.0354965   0.262907\n",
       "  1.24434    -2.70374     0.472802       0.260686    0.517559   -1.85472\n",
       " -0.265548   -2.65863     0.43353    …   0.83086     0.225736    0.180233\n",
       "  1.79892     1.94681     0.452213      -0.0925103   0.0495707  -2.56828\n",
       " -1.79776     0.606498   -0.74742        0.447143    1.5368      1.14261\n",
       " -2.24674     0.478513   -0.823156       0.819298   -0.304989   -1.58435\n",
       "  2.37102    -0.327453    0.845511       0.549148    1.67947    -0.863487"
      ]
     },
     "execution_count": 15,
     "metadata": {},
     "output_type": "execute_result"
    }
   ],
   "source": [
    "A = randn(100000,100)"
   ]
  },
  {
   "cell_type": "code",
   "execution_count": 16,
   "id": "addadb7c",
   "metadata": {},
   "outputs": [
    {
     "data": {
      "text/plain": [
       "100000-element Vector{Float64}:\n",
       " -1.0301668734380798\n",
       "  0.9679328799591805\n",
       " -1.1633884738586562\n",
       " -0.05878883490358528\n",
       " -0.10653056399469296\n",
       " -0.10344044358421359\n",
       "  0.4068539098413889\n",
       "  1.565736857013875\n",
       "  0.17710272491429965\n",
       " -0.38973410912898876\n",
       " -0.22897515672761637\n",
       "  0.13538320509452803\n",
       "  2.075590768065514\n",
       "  ⋮\n",
       "  0.8045324762254549\n",
       " -0.9359735943765058\n",
       " -0.8348875445971343\n",
       " -0.530297321177133\n",
       "  2.2685030116334306\n",
       " -0.4901892029610973\n",
       "  0.582131654537154\n",
       "  0.32742326658207654\n",
       " -0.7325961785451893\n",
       " -1.1357517496011023\n",
       "  0.8648162956150454\n",
       "  1.2719379481930093"
      ]
     },
     "execution_count": 16,
     "metadata": {},
     "output_type": "execute_result"
    }
   ],
   "source": [
    "b = randn(100000)"
   ]
  },
  {
   "cell_type": "code",
   "execution_count": 17,
   "id": "793e148e",
   "metadata": {},
   "outputs": [
    {
     "name": "stdout",
     "output_type": "stream",
     "text": [
      "  1.002065 seconds (442.43 k allocations: 102.827 MiB, 8.87% gc time, 24.18% compilation time)\n"
     ]
    },
    {
     "data": {
      "text/plain": [
       "100-element Vector{Float64}:\n",
       " -0.0017773812670047642\n",
       "  0.0025984462910533584\n",
       "  0.0004805016201897422\n",
       "  0.002584068104499633\n",
       " -0.005362284412017402\n",
       " -0.0019479938622248025\n",
       "  0.002567557673313238\n",
       " -0.0002644961626308565\n",
       "  0.002612643147388151\n",
       "  0.0033108296932892996\n",
       "  0.000545737173701712\n",
       "  0.0022330385192751738\n",
       "  0.003884399506901462\n",
       "  ⋮\n",
       "  0.0007033522655967322\n",
       "  0.0010245183258775967\n",
       " -0.003183379630257167\n",
       " -0.0033091891044435095\n",
       " -0.004846991685315471\n",
       "  0.0009908054536667047\n",
       "  4.367303446254721e-5\n",
       "  0.0006372602523754101\n",
       "  0.0044203125639191\n",
       " -0.003565161599786098\n",
       " -0.0024495221341000388\n",
       "  0.00010475782233330922"
      ]
     },
     "execution_count": 17,
     "metadata": {},
     "output_type": "execute_result"
    }
   ],
   "source": [
    "@time begin\n",
    "A\\b\n",
    "end"
   ]
  },
  {
   "cell_type": "code",
   "execution_count": 18,
   "id": "1c038e00",
   "metadata": {},
   "outputs": [
    {
     "name": "stdout",
     "output_type": "stream",
     "text": [
      "  0.712282 seconds (633 allocations: 77.364 MiB, 7.95% gc time)\n"
     ]
    },
    {
     "data": {
      "text/plain": [
       "100-element Vector{Float64}:\n",
       " -0.0017773812670047642\n",
       "  0.0025984462910533584\n",
       "  0.0004805016201897422\n",
       "  0.002584068104499633\n",
       " -0.005362284412017402\n",
       " -0.0019479938622248025\n",
       "  0.002567557673313238\n",
       " -0.0002644961626308565\n",
       "  0.002612643147388151\n",
       "  0.0033108296932892996\n",
       "  0.000545737173701712\n",
       "  0.0022330385192751738\n",
       "  0.003884399506901462\n",
       "  ⋮\n",
       "  0.0007033522655967322\n",
       "  0.0010245183258775967\n",
       " -0.003183379630257167\n",
       " -0.0033091891044435095\n",
       " -0.004846991685315471\n",
       "  0.0009908054536667047\n",
       "  4.367303446254721e-5\n",
       "  0.0006372602523754101\n",
       "  0.0044203125639191\n",
       " -0.003565161599786098\n",
       " -0.0024495221341000388\n",
       "  0.00010475782233330922"
      ]
     },
     "execution_count": 18,
     "metadata": {},
     "output_type": "execute_result"
    }
   ],
   "source": [
    "@time begin\n",
    "A\\b\n",
    "end"
   ]
  },
  {
   "cell_type": "code",
   "execution_count": 19,
   "id": "54025728",
   "metadata": {},
   "outputs": [
    {
     "name": "stdout",
     "output_type": "stream",
     "text": [
      "  0.728635 seconds (633 allocations: 77.364 MiB)\n"
     ]
    },
    {
     "data": {
      "text/plain": [
       "100-element Vector{Float64}:\n",
       " -0.0017773812670047642\n",
       "  0.0025984462910533584\n",
       "  0.0004805016201897422\n",
       "  0.002584068104499633\n",
       " -0.005362284412017402\n",
       " -0.0019479938622248025\n",
       "  0.002567557673313238\n",
       " -0.0002644961626308565\n",
       "  0.002612643147388151\n",
       "  0.0033108296932892996\n",
       "  0.000545737173701712\n",
       "  0.0022330385192751738\n",
       "  0.003884399506901462\n",
       "  ⋮\n",
       "  0.0007033522655967322\n",
       "  0.0010245183258775967\n",
       " -0.003183379630257167\n",
       " -0.0033091891044435095\n",
       " -0.004846991685315471\n",
       "  0.0009908054536667047\n",
       "  4.367303446254721e-5\n",
       "  0.0006372602523754101\n",
       "  0.0044203125639191\n",
       " -0.003565161599786098\n",
       " -0.0024495221341000388\n",
       "  0.00010475782233330922"
      ]
     },
     "execution_count": 19,
     "metadata": {},
     "output_type": "execute_result"
    }
   ],
   "source": [
    "@time begin\n",
    "A\\b\n",
    "end"
   ]
  },
  {
   "cell_type": "code",
   "execution_count": 20,
   "id": "b21410d2",
   "metadata": {},
   "outputs": [
    {
     "name": "stdout",
     "output_type": "stream",
     "text": [
      "  0.791196 seconds (633 allocations: 77.364 MiB)\n"
     ]
    },
    {
     "data": {
      "text/plain": [
       "100-element Vector{Float64}:\n",
       " -0.0017773812670047642\n",
       "  0.0025984462910533584\n",
       "  0.0004805016201897422\n",
       "  0.002584068104499633\n",
       " -0.005362284412017402\n",
       " -0.0019479938622248025\n",
       "  0.002567557673313238\n",
       " -0.0002644961626308565\n",
       "  0.002612643147388151\n",
       "  0.0033108296932892996\n",
       "  0.000545737173701712\n",
       "  0.0022330385192751738\n",
       "  0.003884399506901462\n",
       "  ⋮\n",
       "  0.0007033522655967322\n",
       "  0.0010245183258775967\n",
       " -0.003183379630257167\n",
       " -0.0033091891044435095\n",
       " -0.004846991685315471\n",
       "  0.0009908054536667047\n",
       "  4.367303446254721e-5\n",
       "  0.0006372602523754101\n",
       "  0.0044203125639191\n",
       " -0.003565161599786098\n",
       " -0.0024495221341000388\n",
       "  0.00010475782233330922"
      ]
     },
     "execution_count": 20,
     "metadata": {},
     "output_type": "execute_result"
    }
   ],
   "source": [
    "@time begin\n",
    "A\\b\n",
    "end"
   ]
  },
  {
   "cell_type": "code",
   "execution_count": 21,
   "id": "66d3d5b1",
   "metadata": {},
   "outputs": [
    {
     "name": "stdout",
     "output_type": "stream",
     "text": [
      "  0.704723 seconds (633 allocations: 77.364 MiB, 0.32% gc time)\n"
     ]
    },
    {
     "data": {
      "text/plain": [
       "100-element Vector{Float64}:\n",
       " -0.0017773812670047642\n",
       "  0.0025984462910533584\n",
       "  0.0004805016201897422\n",
       "  0.002584068104499633\n",
       " -0.005362284412017402\n",
       " -0.0019479938622248025\n",
       "  0.002567557673313238\n",
       " -0.0002644961626308565\n",
       "  0.002612643147388151\n",
       "  0.0033108296932892996\n",
       "  0.000545737173701712\n",
       "  0.0022330385192751738\n",
       "  0.003884399506901462\n",
       "  ⋮\n",
       "  0.0007033522655967322\n",
       "  0.0010245183258775967\n",
       " -0.003183379630257167\n",
       " -0.0033091891044435095\n",
       " -0.004846991685315471\n",
       "  0.0009908054536667047\n",
       "  4.367303446254721e-5\n",
       "  0.0006372602523754101\n",
       "  0.0044203125639191\n",
       " -0.003565161599786098\n",
       " -0.0024495221341000388\n",
       "  0.00010475782233330922"
      ]
     },
     "execution_count": 21,
     "metadata": {},
     "output_type": "execute_result"
    }
   ],
   "source": [
    "@time begin\n",
    "A\\b\n",
    "end"
   ]
  },
  {
   "cell_type": "markdown",
   "id": "54ad218d",
   "metadata": {},
   "source": [
    "### Julia took 0.54-0.56 seconds to solve a least squares problem with m = 100000 equations and n = 100 variables on my computer."
   ]
  },
  {
   "cell_type": "markdown",
   "id": "46688d75",
   "metadata": {},
   "source": [
    "# A13.3 (b)"
   ]
  },
  {
   "cell_type": "code",
   "execution_count": 7,
   "id": "250b2408",
   "metadata": {},
   "outputs": [
    {
     "name": "stdout",
     "output_type": "stream",
     "text": [
      "function toeplitz(vect,n) ==>\n",
      "\tforms the toeplitz matrix as described in section 7.4 in textbook\n",
      "\tn is the size of the vector to convolve with\n",
      "\tselect the rows you need from this\n",
      "\n",
      "data given is x_train and x_test\n"
     ]
    },
    {
     "data": {
      "text/plain": [
       "100-element Vector{Float64}:\n",
       "  0.140126610206199\n",
       " -0.3266617955319319\n",
       " -0.3190213361122029\n",
       " -0.07285822610013504\n",
       "  0.10625789758760604\n",
       "  0.06124284356474724\n",
       " -0.46306782099841665\n",
       "  0.13028759972404974\n",
       "  0.3285691916684773\n",
       " -0.04611914392286799\n",
       " -0.29126645858125566\n",
       " -0.1336195642051234\n",
       " -0.11155462013022835\n",
       "  ⋮\n",
       "  1.329897476359537\n",
       "  1.5076467764325698\n",
       " -1.2476869129326498\n",
       " -1.4682439883434155\n",
       "  0.9317559762963956\n",
       "  1.5366874780961386\n",
       " -1.1309996959748272\n",
       " -1.588768005489042\n",
       "  0.6139908129155712\n",
       "  1.8193852647716864\n",
       " -0.4834015865194686\n",
       " -1.9298247132201785"
      ]
     },
     "execution_count": 7,
     "metadata": {},
     "output_type": "execute_result"
    }
   ],
   "source": [
    "include(\"time_series_data.jl\")"
   ]
  },
  {
   "cell_type": "code",
   "execution_count": 8,
   "id": "6df1a1c6",
   "metadata": {},
   "outputs": [
    {
     "name": "stdout",
     "output_type": "stream",
     "text": [
      "\n",
      "_______________________________M=2_______________________________\n",
      "Model parameters for M=2 are : [0.1082, -0.9802]\n",
      "Mean square prediction error for train data:0.03049\n",
      "Mean square prediction error for test data:0.03874\n",
      "Difference between mean square error valiues for train and test data:0.00824963132226808\n",
      "_______________________________M=3_______________________________\n",
      "Model parameters for M=3 are : [0.05642, -0.9722, -0.05097]\n",
      "Mean square prediction error for train data:0.03029\n",
      "Mean square prediction error for test data:0.03743\n",
      "Difference between mean square error valiues for train and test data:0.007140842850674369\n",
      "_______________________________M=4_______________________________\n",
      "Model parameters for M=4 are : [0.08788, -0.5379, -0.07048, 0.4382]\n",
      "Mean square prediction error for train data:0.0245\n",
      "Mean square prediction error for test data:0.03386\n",
      "Difference between mean square error valiues for train and test data:0.009359393160680195\n",
      "_______________________________M=5_______________________________\n",
      "Model parameters for M=5 are : [0.035, -0.5258, -0.01048, 0.4311, 0.1123]\n",
      "Mean square prediction error for train data:0.02439\n",
      "Mean square prediction error for test data:0.03169\n",
      "Difference between mean square error valiues for train and test data:0.007291066286412365\n",
      "_______________________________M=6_______________________________\n",
      "Model parameters for M=6 are : [0.06436, -0.4152, -0.01132, 0.2854, 0.1243, -0.2592]\n",
      "Mean square prediction error for train data:0.023\n",
      "Mean square prediction error for test data:0.0304\n",
      "Difference between mean square error valiues for train and test data:0.007403961904834434\n",
      "_______________________________M=7_______________________________\n",
      "Model parameters for M=7 are : [-0.033, -0.3582, 0.0984, 0.2868, -0.04269, -0.2365, -0.3758]\n",
      "Mean square prediction error for train data:0.01984\n",
      "Mean square prediction error for test data:0.03524\n",
      "Difference between mean square error valiues for train and test data:0.015401059638245135\n",
      "_______________________________M=8_______________________________\n",
      "Model parameters for M=8 are : [-0.02581, -0.3649, 0.09787, 0.2796, -0.02511, -0.27, -0.3509, -0.02997]\n",
      "Mean square prediction error for train data:0.01914\n",
      "Mean square prediction error for test data:0.0346\n",
      "Difference between mean square error valiues for train and test data:0.015460655051744154\n",
      "_______________________________M=9_______________________________\n",
      "Model parameters for M=9 are : [-0.02345, -0.3209, 0.1249, 0.2817, -0.0591, -0.2837, -0.3033, -0.02647, 0.1156]\n",
      "Mean square prediction error for train data:0.01908\n",
      "Mean square prediction error for test data:0.03705\n",
      "Difference between mean square error valiues for train and test data:0.017968607957701454\n",
      "_______________________________M=10_______________________________\n",
      "Model parameters for M=10 are : [-0.03748, -0.3265, 0.1661, 0.308, -0.05348, -0.3178, -0.3192, 0.00878, 0.1206, 0.1134]\n",
      "Mean square prediction error for train data:0.019\n",
      "Mean square prediction error for test data:0.03769\n",
      "Difference between mean square error valiues for train and test data:0.018686722942274872\n",
      "_______________________________M=11_______________________________\n",
      "Model parameters for M=11 are : [-0.03668, -0.3248, 0.1613, 0.3045, -0.05918, -0.3176, -0.3149, 0.01268, 0.1121, 0.1136, -0.01472]\n",
      "Mean square prediction error for train data:0.0192\n",
      "Mean square prediction error for test data:0.03815\n",
      "Difference between mean square error valiues for train and test data:0.018954024600319194\n",
      "_______________________________M=12_______________________________\n",
      "Model parameters for M=12 are : [-0.03488, -0.309, 0.1701, 0.3371, -0.1003, -0.3281, -0.3208, 0.04365, 0.1202, 0.1069, -0.02515, -0.07492]\n",
      "Mean square prediction error for train data:0.01892\n",
      "Mean square prediction error for test data:0.0403\n",
      "Difference between mean square error valiues for train and test data:0.021385765595870052"
     ]
    }
   ],
   "source": [
    "N=100 #size of x_train and x_test is known\n",
    "for M in 2:12\n",
    "    xtrain=toeplitz(x_train,M)\n",
    "    xtest=toeplitz(x_test,M)\n",
    "    xtrain=xtrain[M:N-1,:]\n",
    "    xtest=xtest[M:N-1,:]\n",
    "    b=x_train[M+1:N]\n",
    "    b_test=x_test[M+1:N]\n",
    "    β=xtrain\\b\n",
    "    print(\"\\n_______________________________M=\",M,\"_______________________________\",\"\\n\")\n",
    "    print(\"Model parameters for M=\",M,\" are : \",round.(β,sigdigits=4),\"\\n\")\n",
    "    print(\"Mean square prediction error for train data:\",round.(norm(xtrain*β - b)^2/(N-M),sigdigits=4))\n",
    "    print(\"\\nMean square prediction error for test data:\",round.(norm(xtest*β - b_test)^2/(N-M),sigdigits=4))\n",
    "    print(\"\\nDifference between mean square error valiues for train and test data:\",(norm(xtest*β - b_test)^2/(N-M)-norm(xtrain*β - b)^2/(N-M)))\n",
    "end"
   ]
  },
  {
   "cell_type": "markdown",
   "id": "ad9e52f9",
   "metadata": {},
   "source": [
    "|M|Mean square prediction error(J)|\n",
    "|---|---|\n",
    "|M=2|Train error = 0.03049, Test error = 0.03874|\n",
    "|M=3|Train error = 0.03029, Test error = 0.03743|\n",
    "|M=4|Train error = 0.0245, Test error = 0.03386|\n",
    "|M=5|Train error = 0.02439, Test error = 0.03169|\n",
    "|M=6|Train error = 0.02299, Test error = 0.03040|\n",
    "|M=7|Train error = 0.01984, Test error = 0.03524|\n",
    "|M=8|Train error = 0.01914, Test error = 0.0346|\n",
    "|M=9|Train error = 0.01908, Test error = 0.03705|\n",
    "|M=10|Train error = 0.01899, Test error = 0.03768|\n",
    "|M=11|Train error = 0.01920, Test error = 0.03815|\n",
    "|M=12|Train error = 0.01892, Test error = 0.04030|"
   ]
  },
  {
   "cell_type": "markdown",
   "id": "178d027a",
   "metadata": {},
   "source": [
    "### As per the error values in the above table the most suitable value for M is 6 since the model has the least mean square prediction error on x_test (i.e. the test data that is used to validate the model), at M=6."
   ]
  },
  {
   "cell_type": "code",
   "execution_count": 46,
   "id": "a5efcd20",
   "metadata": {},
   "outputs": [
    {
     "name": "stdout",
     "output_type": "stream",
     "text": [
      "J value for simplew predictor (1):2.651"
     ]
    }
   ],
   "source": [
    "M=1\n",
    "xtrain=toeplitz(x_train,M)\n",
    "xtrain=xtrain[M:N-1,:]\n",
    "b=x_train[M+1:N]\n",
    "β=1\n",
    "print(\"J value for simplew predictor (1):\",round.(norm(xtrain*β - b)^2/(N-M),sigdigits=4))"
   ]
  },
  {
   "cell_type": "code",
   "execution_count": 47,
   "id": "7fcf35c0",
   "metadata": {},
   "outputs": [
    {
     "name": "stdout",
     "output_type": "stream",
     "text": [
      "J value for simplew predictor (2):5.021"
     ]
    }
   ],
   "source": [
    "M=2\n",
    "xtrain=toeplitz(x_train,M)\n",
    "xtrain=xtrain[M:N-1,:]\n",
    "b=x_train[M+1:N]\n",
    "β=[2,-1]\n",
    "print(\"J value for simplew predictor (2):\",round.(norm(xtrain*β - b)^2/(N-M),sigdigits=4))"
   ]
  }
 ],
 "metadata": {
  "kernelspec": {
   "display_name": "Julia 1.6.2",
   "language": "julia",
   "name": "julia-1.6"
  },
  "language_info": {
   "file_extension": ".jl",
   "mimetype": "application/julia",
   "name": "julia",
   "version": "1.6.2"
  }
 },
 "nbformat": 4,
 "nbformat_minor": 5
}
