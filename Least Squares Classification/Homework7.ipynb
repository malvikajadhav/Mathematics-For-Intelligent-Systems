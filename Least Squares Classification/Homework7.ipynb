{
 "cells": [
  {
   "cell_type": "markdown",
   "id": "6e8cac0b",
   "metadata": {},
   "source": [
    "# A14.3 (a)"
   ]
  },
  {
   "cell_type": "code",
   "execution_count": 166,
   "id": "dde52b19",
   "metadata": {},
   "outputs": [
    {
     "data": {
      "text/plain": [
       "100-element Vector{Float64}:\n",
       " 1.0\n",
       " 1.0\n",
       " 2.0\n",
       " 2.0\n",
       " 1.0\n",
       " 2.0\n",
       " 1.0\n",
       " 3.0\n",
       " 3.0\n",
       " 3.0\n",
       " 1.0\n",
       " 1.0\n",
       " 1.0\n",
       " ⋮\n",
       " 3.0\n",
       " 2.0\n",
       " 2.0\n",
       " 2.0\n",
       " 1.0\n",
       " 1.0\n",
       " 2.0\n",
       " 1.0\n",
       " 3.0\n",
       " 1.0\n",
       " 3.0\n",
       " 2.0"
      ]
     },
     "execution_count": 166,
     "metadata": {},
     "output_type": "execute_result"
    }
   ],
   "source": [
    "using LinearAlgebra\n",
    "using Statistics\n",
    "include(\"iris_flower_data.jl\")\n",
    "\n",
    "# Creating train and test sets\n",
    "Xtrain=X[:,1:100]\n",
    "Xtest=X[:,101:150]\n",
    "y_test = y[101:150]\n",
    "y_train = y[1:100]"
   ]
  },
  {
   "cell_type": "markdown",
   "id": "34840efb",
   "metadata": {},
   "source": [
    "# class 1 = \"setosa\""
   ]
  },
  {
   "cell_type": "code",
   "execution_count": 167,
   "id": "763c9f25",
   "metadata": {},
   "outputs": [
    {
     "data": {
      "text/plain": [
       "5×100 Matrix{Float64}:\n",
       " 1.0  1.0  1.0  1.0  1.0  1.0  1.0  1.0  …  1.0  1.0  1.0  1.0  1.0  1.0  1.0\n",
       " 4.9  4.8  6.0  6.4  5.1  6.7  4.3  6.8     4.8  6.7  5.1  7.3  5.1  6.9  4.9\n",
       " 3.1  3.4  2.7  3.2  3.8  3.1  3.0  3.2     3.0  3.1  3.8  2.9  3.4  3.1  2.4\n",
       " 1.5  1.6  5.1  4.5  1.9  4.7  1.1  5.9     1.4  4.4  1.6  6.3  1.5  5.1  3.3\n",
       " 0.1  0.2  1.6  1.5  0.4  1.5  0.1  2.3     0.1  1.4  0.2  1.8  0.2  2.3  1.0"
      ]
     },
     "execution_count": 167,
     "metadata": {},
     "output_type": "execute_result"
    }
   ],
   "source": [
    "# creating classifier for sentosa vs other classes\n",
    "y_setosa=(y_train .== 1)\n",
    "y_train = (2*y_setosa .- 1)\n",
    "ϕ = [ones(1,100); Xtrain]"
   ]
  },
  {
   "cell_type": "code",
   "execution_count": 168,
   "id": "dc6acc58",
   "metadata": {},
   "outputs": [
    {
     "data": {
      "text/plain": [
       "5-element Vector{Float64}:\n",
       " -0.9947466749775502\n",
       "  0.09153586094062642\n",
       "  0.5698447506712915\n",
       " -0.3371231542607083\n",
       " -0.29505310917161454"
      ]
     },
     "execution_count": 168,
     "metadata": {},
     "output_type": "execute_result"
    }
   ],
   "source": [
    "# since we want to minimize ||ϕ'θ - y||^(2) \n",
    "θ = pinv(ϕ')* y_train"
   ]
  },
  {
   "cell_type": "code",
   "execution_count": 169,
   "id": "a17a1e3a",
   "metadata": {},
   "outputs": [
    {
     "data": {
      "text/plain": [
       "100-element Vector{Float64}:\n",
       "  1.0\n",
       "  1.0\n",
       " -1.0\n",
       " -1.0\n",
       "  1.0\n",
       " -1.0\n",
       "  1.0\n",
       " -1.0\n",
       " -1.0\n",
       " -1.0\n",
       "  1.0\n",
       "  1.0\n",
       "  1.0\n",
       "  ⋮\n",
       " -1.0\n",
       " -1.0\n",
       " -1.0\n",
       " -1.0\n",
       "  1.0\n",
       "  1.0\n",
       " -1.0\n",
       "  1.0\n",
       " -1.0\n",
       "  1.0\n",
       " -1.0\n",
       " -1.0"
      ]
     },
     "execution_count": 169,
     "metadata": {},
     "output_type": "execute_result"
    }
   ],
   "source": [
    "f_tilde_train = ϕ'*θ\n",
    "f_hat_train = [sign(f_tilde_train[i]) for i in 1:100]"
   ]
  },
  {
   "cell_type": "code",
   "execution_count": 170,
   "id": "48573b51",
   "metadata": {},
   "outputs": [
    {
     "data": {
      "text/plain": [
       "2×2 Matrix{Float64}:\n",
       " 29.0   0.0\n",
       "  0.0  71.0"
      ]
     },
     "execution_count": 170,
     "metadata": {},
     "output_type": "execute_result"
    }
   ],
   "source": [
    "function Confusion_matrix_binary(y_hat, y_true)\n",
    "    C = zeros(2,2)\n",
    "    a = [1,-1]\n",
    "    for i in 1:2\n",
    "        for j in 1:2\n",
    "            C[i,j] = 1.0 * sum((y_hat .== a[j]) .& (y_true .== a[i]))\n",
    "        end\n",
    "    end\n",
    "    return C\n",
    "end\n",
    "\n",
    "C_train_setosa = Confusion_matrix_binary( f_hat_train,y_train)"
   ]
  },
  {
   "cell_type": "code",
   "execution_count": 171,
   "id": "e5169bf9",
   "metadata": {},
   "outputs": [
    {
     "data": {
      "text/plain": [
       "2×2 Matrix{Float64}:\n",
       " 21.0   0.0\n",
       "  0.0  29.0"
      ]
     },
     "execution_count": 171,
     "metadata": {},
     "output_type": "execute_result"
    }
   ],
   "source": [
    "y_new_test = (y_test .== 1)\n",
    "y_test_setosa = (2*y_new_test .- 1)\n",
    "ϕ_test = [ones(1,50); Xtest]\n",
    "f_tilde_test = ϕ_test'*θ\n",
    "f_hat_test = [sign(f_tilde_test[i]) for i in 1:50]\n",
    "C_test_setosa = Confusion_matrix_binary( f_hat_test,y_test_setosa)"
   ]
  },
  {
   "cell_type": "code",
   "execution_count": 172,
   "id": "2c386b3f",
   "metadata": {},
   "outputs": [
    {
     "data": {
      "text/plain": [
       "0.0"
      ]
     },
     "execution_count": 172,
     "metadata": {},
     "output_type": "execute_result"
    }
   ],
   "source": [
    "error_rate_train = mean(y_train .!= f_hat_train)"
   ]
  },
  {
   "cell_type": "code",
   "execution_count": 173,
   "id": "5b8ae816",
   "metadata": {},
   "outputs": [
    {
     "data": {
      "text/plain": [
       "0.0"
      ]
     },
     "execution_count": 173,
     "metadata": {},
     "output_type": "execute_result"
    }
   ],
   "source": [
    "error_rate_test = mean(y_test_setosa .!= f_hat_test) "
   ]
  },
  {
   "cell_type": "markdown",
   "id": "dcd56f58",
   "metadata": {},
   "source": [
    "#  class 2 = \"versicolor\""
   ]
  },
  {
   "cell_type": "code",
   "execution_count": 174,
   "id": "191c2db1",
   "metadata": {},
   "outputs": [
    {
     "data": {
      "text/plain": [
       "100-element Vector{Float64}:\n",
       " 1.0\n",
       " 1.0\n",
       " 2.0\n",
       " 2.0\n",
       " 1.0\n",
       " 2.0\n",
       " 1.0\n",
       " 3.0\n",
       " 3.0\n",
       " 3.0\n",
       " 1.0\n",
       " 1.0\n",
       " 1.0\n",
       " ⋮\n",
       " 3.0\n",
       " 2.0\n",
       " 2.0\n",
       " 2.0\n",
       " 1.0\n",
       " 1.0\n",
       " 2.0\n",
       " 1.0\n",
       " 3.0\n",
       " 1.0\n",
       " 3.0\n",
       " 2.0"
      ]
     },
     "execution_count": 174,
     "metadata": {},
     "output_type": "execute_result"
    }
   ],
   "source": [
    "# Creating train and test sets\n",
    "Xtrain=X[:,1:100]\n",
    "Xtest=X[:,101:150]\n",
    "y_test = y[101:150]\n",
    "y_train = y[1:100]"
   ]
  },
  {
   "cell_type": "code",
   "execution_count": 175,
   "id": "5fa92c9d",
   "metadata": {},
   "outputs": [
    {
     "data": {
      "text/plain": [
       "5×100 Matrix{Float64}:\n",
       " 1.0  1.0  1.0  1.0  1.0  1.0  1.0  1.0  …  1.0  1.0  1.0  1.0  1.0  1.0  1.0\n",
       " 4.9  4.8  6.0  6.4  5.1  6.7  4.3  6.8     4.8  6.7  5.1  7.3  5.1  6.9  4.9\n",
       " 3.1  3.4  2.7  3.2  3.8  3.1  3.0  3.2     3.0  3.1  3.8  2.9  3.4  3.1  2.4\n",
       " 1.5  1.6  5.1  4.5  1.9  4.7  1.1  5.9     1.4  4.4  1.6  6.3  1.5  5.1  3.3\n",
       " 0.1  0.2  1.6  1.5  0.4  1.5  0.1  2.3     0.1  1.4  0.2  1.8  0.2  2.3  1.0"
      ]
     },
     "execution_count": 175,
     "metadata": {},
     "output_type": "execute_result"
    }
   ],
   "source": [
    "# creating classifier for versicolor vs other classes\n",
    "y_versicolor=(y_train .== 2)\n",
    "y_train = (2*y_versicolor .- 1)\n",
    "ϕ = [ones(1,100); Xtrain]"
   ]
  },
  {
   "cell_type": "code",
   "execution_count": 176,
   "id": "d8737486",
   "metadata": {},
   "outputs": [
    {
     "data": {
      "text/plain": [
       "5-element Vector{Float64}:\n",
       "  2.63355046469393\n",
       "  0.08917974435999647\n",
       " -1.1278629884847782\n",
       "  0.16022646880978156\n",
       " -0.5514903082277338"
      ]
     },
     "execution_count": 176,
     "metadata": {},
     "output_type": "execute_result"
    }
   ],
   "source": [
    "# since we want to minimize ||ϕ'θ - y||^(2) \n",
    "θ = pinv(ϕ')* y_train"
   ]
  },
  {
   "cell_type": "code",
   "execution_count": 177,
   "id": "7335195b",
   "metadata": {},
   "outputs": [
    {
     "data": {
      "text/plain": [
       "100-element Vector{Float64}:\n",
       " -1.0\n",
       " -1.0\n",
       "  1.0\n",
       " -1.0\n",
       " -1.0\n",
       " -1.0\n",
       " -1.0\n",
       " -1.0\n",
       "  1.0\n",
       " -1.0\n",
       " -1.0\n",
       " -1.0\n",
       " -1.0\n",
       "  ⋮\n",
       " -1.0\n",
       "  1.0\n",
       " -1.0\n",
       "  1.0\n",
       " -1.0\n",
       " -1.0\n",
       " -1.0\n",
       " -1.0\n",
       "  1.0\n",
       " -1.0\n",
       " -1.0\n",
       "  1.0"
      ]
     },
     "execution_count": 177,
     "metadata": {},
     "output_type": "execute_result"
    }
   ],
   "source": [
    "f_tilde_train = ϕ'*θ\n",
    "f_hat_train = [sign(f_tilde_train[i]) for i in 1:100]"
   ]
  },
  {
   "cell_type": "code",
   "execution_count": 178,
   "id": "7a24dc44",
   "metadata": {},
   "outputs": [
    {
     "data": {
      "text/plain": [
       "2×2 Matrix{Float64}:\n",
       " 17.0  18.0\n",
       " 10.0  55.0"
      ]
     },
     "execution_count": 178,
     "metadata": {},
     "output_type": "execute_result"
    }
   ],
   "source": [
    "C_train_versicolor= Confusion_matrix_binary( f_hat_train,y_train)"
   ]
  },
  {
   "cell_type": "code",
   "execution_count": 179,
   "id": "c312441f",
   "metadata": {},
   "outputs": [
    {
     "data": {
      "text/plain": [
       "2×2 Matrix{Float64}:\n",
       " 5.0  10.0\n",
       " 2.0  33.0"
      ]
     },
     "execution_count": 179,
     "metadata": {},
     "output_type": "execute_result"
    }
   ],
   "source": [
    "y_new_test = (y_test .== 2)\n",
    "y_test_versicolor = (2*y_new_test .- 1)\n",
    "ϕ_test = [ones(1,50); Xtest]\n",
    "f_tilde_test = ϕ_test'*θ\n",
    "f_hat_test = [sign(f_tilde_test[i]) for i in 1:50]\n",
    "C_test_versicolor = Confusion_matrix_binary( f_hat_test,y_test_versicolor)"
   ]
  },
  {
   "cell_type": "code",
   "execution_count": 180,
   "id": "0c13c4fb",
   "metadata": {},
   "outputs": [
    {
     "data": {
      "text/plain": [
       "0.28"
      ]
     },
     "execution_count": 180,
     "metadata": {},
     "output_type": "execute_result"
    }
   ],
   "source": [
    "error_rate_train = mean(y_train .!= f_hat_train)"
   ]
  },
  {
   "cell_type": "code",
   "execution_count": 181,
   "id": "0afdda0b",
   "metadata": {},
   "outputs": [
    {
     "data": {
      "text/plain": [
       "0.24"
      ]
     },
     "execution_count": 181,
     "metadata": {},
     "output_type": "execute_result"
    }
   ],
   "source": [
    "error_rate_test = mean(y_test_versicolor .!= f_hat_test) "
   ]
  },
  {
   "cell_type": "markdown",
   "id": "0ab8281f",
   "metadata": {},
   "source": [
    "# class 3 = \"virginica\""
   ]
  },
  {
   "cell_type": "code",
   "execution_count": 182,
   "id": "f7226ab4",
   "metadata": {},
   "outputs": [
    {
     "data": {
      "text/plain": [
       "100-element Vector{Float64}:\n",
       " 1.0\n",
       " 1.0\n",
       " 2.0\n",
       " 2.0\n",
       " 1.0\n",
       " 2.0\n",
       " 1.0\n",
       " 3.0\n",
       " 3.0\n",
       " 3.0\n",
       " 1.0\n",
       " 1.0\n",
       " 1.0\n",
       " ⋮\n",
       " 3.0\n",
       " 2.0\n",
       " 2.0\n",
       " 2.0\n",
       " 1.0\n",
       " 1.0\n",
       " 2.0\n",
       " 1.0\n",
       " 3.0\n",
       " 1.0\n",
       " 3.0\n",
       " 2.0"
      ]
     },
     "execution_count": 182,
     "metadata": {},
     "output_type": "execute_result"
    }
   ],
   "source": [
    "# Creating train and test sets\n",
    "Xtrain=X[:,1:100]\n",
    "Xtest=X[:,101:150]\n",
    "y_test = y[101:150]\n",
    "y_train = y[1:100]"
   ]
  },
  {
   "cell_type": "code",
   "execution_count": 183,
   "id": "260a89c2",
   "metadata": {},
   "outputs": [
    {
     "data": {
      "text/plain": [
       "5×100 Matrix{Float64}:\n",
       " 1.0  1.0  1.0  1.0  1.0  1.0  1.0  1.0  …  1.0  1.0  1.0  1.0  1.0  1.0  1.0\n",
       " 4.9  4.8  6.0  6.4  5.1  6.7  4.3  6.8     4.8  6.7  5.1  7.3  5.1  6.9  4.9\n",
       " 3.1  3.4  2.7  3.2  3.8  3.1  3.0  3.2     3.0  3.1  3.8  2.9  3.4  3.1  2.4\n",
       " 1.5  1.6  5.1  4.5  1.9  4.7  1.1  5.9     1.4  4.4  1.6  6.3  1.5  5.1  3.3\n",
       " 0.1  0.2  1.6  1.5  0.4  1.5  0.1  2.3     0.1  1.4  0.2  1.8  0.2  2.3  1.0"
      ]
     },
     "execution_count": 183,
     "metadata": {},
     "output_type": "execute_result"
    }
   ],
   "source": [
    "# creating classifier for virginica vs other classes\n",
    "y_virginica=(y_train .== 3)\n",
    "y_train = (2*y_virginica .- 1)\n",
    "ϕ = [ones(1,100); Xtrain]"
   ]
  },
  {
   "cell_type": "code",
   "execution_count": 184,
   "id": "183e8b2a",
   "metadata": {},
   "outputs": [
    {
     "data": {
      "text/plain": [
       "5-element Vector{Float64}:\n",
       " -2.6388037897163783\n",
       " -0.18071560530062325\n",
       "  0.5580182378134866\n",
       "  0.1768966854509267\n",
       "  0.8465434173993487"
      ]
     },
     "execution_count": 184,
     "metadata": {},
     "output_type": "execute_result"
    }
   ],
   "source": [
    "# since we want to minimize ||ϕ'θ - y||^(2) \n",
    "θ = pinv(ϕ')* y_train"
   ]
  },
  {
   "cell_type": "code",
   "execution_count": 185,
   "id": "7550698f",
   "metadata": {},
   "outputs": [
    {
     "data": {
      "text/plain": [
       "100-element Vector{Float64}:\n",
       " -1.0\n",
       " -1.0\n",
       "  1.0\n",
       "  1.0\n",
       " -1.0\n",
       " -1.0\n",
       " -1.0\n",
       "  1.0\n",
       " -1.0\n",
       "  1.0\n",
       " -1.0\n",
       " -1.0\n",
       " -1.0\n",
       "  ⋮\n",
       "  1.0\n",
       " -1.0\n",
       " -1.0\n",
       " -1.0\n",
       " -1.0\n",
       " -1.0\n",
       " -1.0\n",
       " -1.0\n",
       "  1.0\n",
       " -1.0\n",
       "  1.0\n",
       " -1.0"
      ]
     },
     "execution_count": 185,
     "metadata": {},
     "output_type": "execute_result"
    }
   ],
   "source": [
    "f_tilde_train = ϕ'*θ\n",
    "f_hat_train = [sign(f_tilde_train[i]) for i in 1:100]"
   ]
  },
  {
   "cell_type": "code",
   "execution_count": 186,
   "id": "1a28c070",
   "metadata": {},
   "outputs": [
    {
     "data": {
      "text/plain": [
       "2×2 Matrix{Float64}:\n",
       " 33.0   3.0\n",
       "  7.0  57.0"
      ]
     },
     "execution_count": 186,
     "metadata": {},
     "output_type": "execute_result"
    }
   ],
   "source": [
    "C_train_virginica = Confusion_matrix_binary( f_hat_train,y_train)"
   ]
  },
  {
   "cell_type": "code",
   "execution_count": 187,
   "id": "2ea066f0",
   "metadata": {},
   "outputs": [
    {
     "data": {
      "text/plain": [
       "2×2 Matrix{Float64}:\n",
       " 14.0   0.0\n",
       "  1.0  35.0"
      ]
     },
     "execution_count": 187,
     "metadata": {},
     "output_type": "execute_result"
    }
   ],
   "source": [
    "y_new_test = (y_test .== 3)\n",
    "y_test_virginica = (2*y_new_test .- 1)\n",
    "ϕ_test = [ones(1,50); Xtest]\n",
    "f_tilde_test = ϕ_test'*θ\n",
    "f_hat_test = [sign(f_tilde_test[i]) for i in 1:50]\n",
    "C_test_virginica = Confusion_matrix_binary( f_hat_test,y_test_virginica)"
   ]
  },
  {
   "cell_type": "code",
   "execution_count": 196,
   "id": "09ef789c",
   "metadata": {},
   "outputs": [
    {
     "data": {
      "text/plain": [
       "0.1"
      ]
     },
     "execution_count": 196,
     "metadata": {},
     "output_type": "execute_result"
    }
   ],
   "source": [
    "error_rate_train = mean(y_train .!= f_hat_train)"
   ]
  },
  {
   "cell_type": "code",
   "execution_count": 189,
   "id": "177adc7b",
   "metadata": {},
   "outputs": [
    {
     "data": {
      "text/plain": [
       "0.02"
      ]
     },
     "execution_count": 189,
     "metadata": {},
     "output_type": "execute_result"
    }
   ],
   "source": [
    "error_rate_test = mean(y_test_virginica .!= f_hat_test) "
   ]
  },
  {
   "cell_type": "code",
   "execution_count": 195,
   "id": "67848167",
   "metadata": {},
   "outputs": [
    {
     "name": "stdout",
     "output_type": "stream",
     "text": [
      "Confusion matrices for the three classes:\n",
      "\n",
      "____________________________Setosa________________________________\n",
      " Train:[29.0 0.0; 0.0 71.0]\t Test:[21.0 0.0; 0.0 29.0]\n",
      "\n",
      "____________________________Versicolor________________________________\n",
      " Train:[17.0 18.0; 10.0 55.0]\t Test:[5.0 10.0; 2.0 33.0]\n",
      "\n",
      "____________________________Virginica________________________________\n",
      " Train:[33.0 3.0; 7.0 57.0]\t Test:[14.0 0.0; 1.0 35.0]"
     ]
    }
   ],
   "source": [
    "print(\"Confusion matrices for the three classes:\\n\")\n",
    "print(\"\\n____________________________Setosa________________________________\\n\")\n",
    "print(\" Train:\")\n",
    "print(C_train_setosa)\n",
    "print(\"\\t Test:\")\n",
    "print(C_test_setosa)\n",
    "print(\"\\n\\n____________________________Versicolor________________________________\\n\")\n",
    "print(\" Train:\")\n",
    "print(C_train_versicolor)\n",
    "print(\"\\t Test:\")\n",
    "print(C_test_versicolor)\n",
    "print(\"\\n\\n____________________________Virginica________________________________\\n\")\n",
    "print(\" Train:\")\n",
    "print(C_train_virginica)\n",
    "print(\"\\t Test:\")\n",
    "print(C_test_virginica)"
   ]
  },
  {
   "cell_type": "markdown",
   "id": "bf9e3fad",
   "metadata": {},
   "source": [
    "|Class|Train error rate:|Test error rate:|\n",
    "|---|:---:|---|\n",
    "| Setosa | 0.0 | 0.0 |\n",
    "| Versicolor | 0.28 | 0.24 |\n",
    "| Virginica | 0.1 | 0.02 |"
   ]
  },
  {
   "cell_type": "markdown",
   "id": "f208dca1",
   "metadata": {},
   "source": [
    "# A14.3 (b)"
   ]
  },
  {
   "cell_type": "code",
   "execution_count": 207,
   "id": "536354f8",
   "metadata": {},
   "outputs": [
    {
     "data": {
      "text/plain": [
       "classify (generic function with 1 method)"
      ]
     },
     "execution_count": 207,
     "metadata": {},
     "output_type": "execute_result"
    }
   ],
   "source": [
    "include(\"iris_multiclass_helpers.jl\")\n",
    "function classify(ϕ,y,m)\n",
    "    y_new = zeros(length(y),m)\n",
    "    for i in 1:m\n",
    "        y_new[:,i] .= 2*(y .== i) .- 1\n",
    "    end\n",
    "    θ = pinv(ϕ')*y_new\n",
    "    f_tilde = ϕ'*θ\n",
    "    f_hat = argmax_by_row(f_tilde)\n",
    "    return θ,f_hat\n",
    "end"
   ]
  },
  {
   "cell_type": "code",
   "execution_count": 213,
   "id": "a1c2587e",
   "metadata": {},
   "outputs": [
    {
     "name": "stdout",
     "output_type": "stream",
     "text": [
      "Confusion matrix for train set:"
     ]
    },
    {
     "data": {
      "text/plain": [
       "3×3 Matrix{Float64}:\n",
       " 29.0   0.0   0.0\n",
       "  0.0  24.0   5.0\n",
       "  0.0  11.0  31.0"
      ]
     },
     "execution_count": 213,
     "metadata": {},
     "output_type": "execute_result"
    }
   ],
   "source": [
    "Xtrain=X[:,1:100]\n",
    "ϕ=[ones(1,100); Xtrain]\n",
    "Xtest=X[:,101:150]\n",
    "y_test = y[101:150]\n",
    "y_train = y[1:100]\n",
    "θ,f_hat_train = classify(ϕ,y_train,3)\n",
    "ϕ_test = [ones(1,50); Xtest]\n",
    "f_hat_test = argmax_by_row(ϕ_test'*θ) \n",
    "print(\"Confusion matrix for train set:\")\n",
    "CM_train=confusion_matrix(f_hat_train,y_train)"
   ]
  },
  {
   "cell_type": "code",
   "execution_count": 217,
   "id": "bf1e15fa",
   "metadata": {},
   "outputs": [
    {
     "name": "stdout",
     "output_type": "stream",
     "text": [
      "Error rate on training set: 0.16"
     ]
    }
   ],
   "source": [
    "print(\"Error rate on training set: \", mean(y_train .!= f_hat_train))"
   ]
  },
  {
   "cell_type": "code",
   "execution_count": 214,
   "id": "9c04490c",
   "metadata": {},
   "outputs": [
    {
     "data": {
      "text/plain": [
       "3×3 Matrix{Float64}:\n",
       " 20.0  0.0   0.0\n",
       "  1.0  9.0   0.0\n",
       "  0.0  6.0  14.0"
      ]
     },
     "execution_count": 214,
     "metadata": {},
     "output_type": "execute_result"
    }
   ],
   "source": [
    "print(\"Confusion matrix for test set:\")\n",
    "CM_test=confusion_matrix(f_hat_test,y_test)"
   ]
  },
  {
   "cell_type": "code",
   "execution_count": 219,
   "id": "bd4b07d3",
   "metadata": {},
   "outputs": [
    {
     "name": "stdout",
     "output_type": "stream",
     "text": [
      "Error rate on test set: 0.14"
     ]
    }
   ],
   "source": [
    "print(\"Error rate on test set: \", mean(y_test .!= f_hat_test))"
   ]
  }
 ],
 "metadata": {
  "kernelspec": {
   "display_name": "Julia 1.6.2",
   "language": "julia",
   "name": "julia-1.6"
  },
  "language_info": {
   "file_extension": ".jl",
   "mimetype": "application/julia",
   "name": "julia",
   "version": "1.6.2"
  }
 },
 "nbformat": 4,
 "nbformat_minor": 5
}
