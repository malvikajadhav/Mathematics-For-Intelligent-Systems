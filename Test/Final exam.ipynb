{
 "cells": [
  {
   "cell_type": "markdown",
   "id": "6ea64d88",
   "metadata": {},
   "source": [
    "# Q4"
   ]
  },
  {
   "cell_type": "code",
   "execution_count": 6,
   "id": "ce6519dc",
   "metadata": {},
   "outputs": [],
   "source": [
    "using LinearAlgebra"
   ]
  },
  {
   "cell_type": "code",
   "execution_count": 3,
   "id": "64f5a2e3",
   "metadata": {},
   "outputs": [
    {
     "data": {
      "text/plain": [
       "3×3 Matrix{Float64}:\n",
       " 1.0  1.0       1.0\n",
       " 1.0  0.952381  0.907029\n",
       " 1.0  0.909091  0.826446"
      ]
     },
     "execution_count": 3,
     "metadata": {},
     "output_type": "execute_result"
    }
   ],
   "source": [
    "A = [1 1 1 ; 1 1/1.05 1/((1.05)^2) ; 1 1/1.1 1/((1.1)^2)]"
   ]
  },
  {
   "cell_type": "code",
   "execution_count": 4,
   "id": "69e5f843",
   "metadata": {},
   "outputs": [
    {
     "data": {
      "text/plain": [
       "3-element Vector{Int64}:\n",
       "  1\n",
       "  0\n",
       " -1"
      ]
     },
     "execution_count": 4,
     "metadata": {},
     "output_type": "execute_result"
    }
   ],
   "source": [
    "NPV = [1 ; 0 ; -1]"
   ]
  },
  {
   "cell_type": "code",
   "execution_count": 5,
   "id": "e02906a5",
   "metadata": {},
   "outputs": [
    {
     "data": {
      "text/plain": [
       "3-element Vector{Float64}:\n",
       " -42.00000000000108\n",
       "  66.10000000000227\n",
       " -23.10000000000119"
      ]
     },
     "execution_count": 5,
     "metadata": {},
     "output_type": "execute_result"
    }
   ],
   "source": [
    "# cashflow\n",
    "c = A\\NPV"
   ]
  },
  {
   "cell_type": "code",
   "execution_count": 7,
   "id": "f1478945",
   "metadata": {},
   "outputs": [
    {
     "data": {
      "text/plain": [
       "3-element Vector{Float64}:\n",
       " -42.00000000000108\n",
       "  66.1000000000023\n",
       " -23.100000000001216"
      ]
     },
     "execution_count": 7,
     "metadata": {},
     "output_type": "execute_result"
    }
   ],
   "source": [
    "inv(A)*NPV"
   ]
  },
  {
   "cell_type": "markdown",
   "id": "9d737130",
   "metadata": {},
   "source": [
    "# Q6"
   ]
  },
  {
   "cell_type": "code",
   "execution_count": 8,
   "id": "f22f85a6",
   "metadata": {},
   "outputs": [],
   "source": [
    "using Statistics\n",
    "using Plots"
   ]
  },
  {
   "cell_type": "code",
   "execution_count": 9,
   "id": "a89545f3",
   "metadata": {},
   "outputs": [
    {
     "data": {
      "text/plain": [
       "7-element LinRange{Float64}:\n",
       " -0.75,-0.583333,-0.416667,-0.25,-0.0833333,0.0833333,0.25"
      ]
     },
     "execution_count": 9,
     "metadata": {},
     "output_type": "execute_result"
    }
   ],
   "source": [
    "t = LinRange(-0.75,0.25,7)"
   ]
  },
  {
   "cell_type": "code",
   "execution_count": 10,
   "id": "32f5bc9a",
   "metadata": {},
   "outputs": [
    {
     "data": {
      "text/plain": [
       "7-element Vector{Float64}:\n",
       "  0.0\n",
       " -0.1\n",
       "  0.5\n",
       "  0.0\n",
       "  1.0\n",
       "  0.8\n",
       "  0.5"
      ]
     },
     "execution_count": 10,
     "metadata": {},
     "output_type": "execute_result"
    }
   ],
   "source": [
    "b = [0 ; -0.1 ; 0.5 ; 0 ; 1 ; 0.8 ; 0.5]"
   ]
  },
  {
   "cell_type": "code",
   "execution_count": 15,
   "id": "e6055b7e",
   "metadata": {},
   "outputs": [
    {
     "data": {
      "text/plain": [
       "7×8 Matrix{Float64}:\n",
       " 1.0  -0.75      0.5625    -0.421875   0.0  …   0.0          0.0\n",
       " 1.0  -0.583333  0.340278  -0.198495   0.0      0.0          0.0\n",
       " 1.0  -0.416667  0.173611  -0.072338   0.0      0.0          0.0\n",
       " 1.0  -1.25      0.5625    -0.203125  -1.0     -0.5625       0.203125\n",
       " 0.0   0.0       0.0        0.0        1.0      0.00694444  -0.000578704\n",
       " 0.0   0.0       0.0        0.0        1.0  …   0.00694444   0.000578704\n",
       " 0.0   0.0       0.0        0.0        1.0      0.0625       0.015625"
      ]
     },
     "execution_count": 15,
     "metadata": {},
     "output_type": "execute_result"
    }
   ],
   "source": [
    "A = [1 t[1] t[1]^2 t[1]^3 0 0 0 0;\n",
    "    1 t[2] t[2]^2 t[2]^3 0 0 0 0 ;\n",
    "    1 t[3] t[3]^2 t[3]^3 0 0 0 0 ;\n",
    "    1 t[4]-1 t[4]^2-2*t[4] t[4]^3-3*t[4]^2 -1 1-t[4] 2*t[4]-t[4]^2 3*t[4]^2-t[4]^3;\n",
    "    0 0 0 0 1 t[5] t[5]^2 t[5]^3;\n",
    "    0 0 0 0 1 t[6] t[6]^2 t[6]^3;\n",
    "    0 0 0 0 1 t[7] t[7]^2 t[7]^3  \n",
    "]"
   ]
  },
  {
   "cell_type": "code",
   "execution_count": 16,
   "id": "129ce3e6",
   "metadata": {},
   "outputs": [
    {
     "data": {
      "text/plain": [
       "8-element Vector{Float64}:\n",
       "   3.0365649894310254\n",
       "   5.163477847186152\n",
       "  -6.848976101462162\n",
       " -11.11370062940694\n",
       "   0.9459003173764369\n",
       "  -1.3336012695057489\n",
       "  -6.609645702206882\n",
       "  19.23858280882754"
      ]
     },
     "execution_count": 16,
     "metadata": {},
     "output_type": "execute_result"
    }
   ],
   "source": [
    "x = A\\b"
   ]
  },
  {
   "cell_type": "code",
   "execution_count": 17,
   "id": "562d6145",
   "metadata": {},
   "outputs": [
    {
     "data": {
      "text/plain": [
       "p (generic function with 1 method)"
      ]
     },
     "execution_count": 17,
     "metadata": {},
     "output_type": "execute_result"
    }
   ],
   "source": [
    "p(t) = x[1] + x[2]*t + x[3]*(t^2) + x[4]*(t^3)"
   ]
  },
  {
   "cell_type": "code",
   "execution_count": 18,
   "id": "b6c6d623",
   "metadata": {},
   "outputs": [
    {
     "data": {
      "text/plain": [
       "q (generic function with 1 method)"
      ]
     },
     "execution_count": 18,
     "metadata": {},
     "output_type": "execute_result"
    }
   ],
   "source": [
    "q(t) = x[5] + x[6]*t + x[7]*(t^2) + x[8]*(t^3)"
   ]
  },
  {
   "cell_type": "code",
   "execution_count": 19,
   "id": "b4f4c24d",
   "metadata": {},
   "outputs": [
    {
     "data": {
      "image/svg+xml": [
       "<?xml version=\"1.0\" encoding=\"utf-8\"?>\n",
       "<svg xmlns=\"http://www.w3.org/2000/svg\" xmlns:xlink=\"http://www.w3.org/1999/xlink\" width=\"600\" height=\"400\" viewBox=\"0 0 2400 1600\">\n",
       "<defs>\n",
       "  <clipPath id=\"clip440\">\n",
       "    <rect x=\"0\" y=\"0\" width=\"2400\" height=\"1600\"/>\n",
       "  </clipPath>\n",
       "</defs>\n",
       "<path clip-path=\"url(#clip440)\" d=\"\n",
       "M0 1600 L2400 1600 L2400 0 L0 0  Z\n",
       "  \" fill=\"#ffffff\" fill-rule=\"evenodd\" fill-opacity=\"1\"/>\n",
       "<defs>\n",
       "  <clipPath id=\"clip441\">\n",
       "    <rect x=\"480\" y=\"0\" width=\"1681\" height=\"1600\"/>\n",
       "  </clipPath>\n",
       "</defs>\n",
       "<path clip-path=\"url(#clip440)\" d=\"\n",
       "M110.881 1486.45 L2352.76 1486.45 L2352.76 47.2441 L110.881 47.2441  Z\n",
       "  \" fill=\"#ffffff\" fill-rule=\"evenodd\" fill-opacity=\"1\"/>\n",
       "<defs>\n",
       "  <clipPath id=\"clip442\">\n",
       "    <rect x=\"110\" y=\"47\" width=\"2243\" height=\"1440\"/>\n",
       "  </clipPath>\n",
       "</defs>\n",
       "<polyline clip-path=\"url(#clip442)\" style=\"stroke:#000000; stroke-linecap:butt; stroke-linejoin:round; stroke-width:2; stroke-opacity:0.1; fill:none\" points=\"\n",
       "  491.577,1486.45 491.577,47.2441 \n",
       "  \"/>\n",
       "<polyline clip-path=\"url(#clip442)\" style=\"stroke:#000000; stroke-linecap:butt; stroke-linejoin:round; stroke-width:2; stroke-opacity:0.1; fill:none\" points=\"\n",
       "  914.572,1486.45 914.572,47.2441 \n",
       "  \"/>\n",
       "<polyline clip-path=\"url(#clip442)\" style=\"stroke:#000000; stroke-linecap:butt; stroke-linejoin:round; stroke-width:2; stroke-opacity:0.1; fill:none\" points=\"\n",
       "  1337.57,1486.45 1337.57,47.2441 \n",
       "  \"/>\n",
       "<polyline clip-path=\"url(#clip442)\" style=\"stroke:#000000; stroke-linecap:butt; stroke-linejoin:round; stroke-width:2; stroke-opacity:0.1; fill:none\" points=\"\n",
       "  1760.56,1486.45 1760.56,47.2441 \n",
       "  \"/>\n",
       "<polyline clip-path=\"url(#clip442)\" style=\"stroke:#000000; stroke-linecap:butt; stroke-linejoin:round; stroke-width:2; stroke-opacity:0.1; fill:none\" points=\"\n",
       "  2183.56,1486.45 2183.56,47.2441 \n",
       "  \"/>\n",
       "<polyline clip-path=\"url(#clip440)\" style=\"stroke:#000000; stroke-linecap:butt; stroke-linejoin:round; stroke-width:4; stroke-opacity:1; fill:none\" points=\"\n",
       "  110.881,1486.45 2352.76,1486.45 \n",
       "  \"/>\n",
       "<polyline clip-path=\"url(#clip440)\" style=\"stroke:#000000; stroke-linecap:butt; stroke-linejoin:round; stroke-width:4; stroke-opacity:1; fill:none\" points=\"\n",
       "  491.577,1486.45 491.577,1467.55 \n",
       "  \"/>\n",
       "<polyline clip-path=\"url(#clip440)\" style=\"stroke:#000000; stroke-linecap:butt; stroke-linejoin:round; stroke-width:4; stroke-opacity:1; fill:none\" points=\"\n",
       "  914.572,1486.45 914.572,1467.55 \n",
       "  \"/>\n",
       "<polyline clip-path=\"url(#clip440)\" style=\"stroke:#000000; stroke-linecap:butt; stroke-linejoin:round; stroke-width:4; stroke-opacity:1; fill:none\" points=\"\n",
       "  1337.57,1486.45 1337.57,1467.55 \n",
       "  \"/>\n",
       "<polyline clip-path=\"url(#clip440)\" style=\"stroke:#000000; stroke-linecap:butt; stroke-linejoin:round; stroke-width:4; stroke-opacity:1; fill:none\" points=\"\n",
       "  1760.56,1486.45 1760.56,1467.55 \n",
       "  \"/>\n",
       "<polyline clip-path=\"url(#clip440)\" style=\"stroke:#000000; stroke-linecap:butt; stroke-linejoin:round; stroke-width:4; stroke-opacity:1; fill:none\" points=\"\n",
       "  2183.56,1486.45 2183.56,1467.55 \n",
       "  \"/>\n",
       "<path clip-path=\"url(#clip440)\" d=\"M438.024 1530.29 L467.699 1530.29 L467.699 1534.23 L438.024 1534.23 L438.024 1530.29 Z\" fill=\"#000000\" fill-rule=\"evenodd\" fill-opacity=\"1\" /><path clip-path=\"url(#clip440)\" d=\"M487.792 1515.64 Q484.181 1515.64 482.352 1519.2 Q480.547 1522.75 480.547 1529.87 Q480.547 1536.98 482.352 1540.55 Q484.181 1544.09 487.792 1544.09 Q491.426 1544.09 493.232 1540.55 Q495.06 1536.98 495.06 1529.87 Q495.06 1522.75 493.232 1519.2 Q491.426 1515.64 487.792 1515.64 M487.792 1511.93 Q493.602 1511.93 496.658 1516.54 Q499.736 1521.12 499.736 1529.87 Q499.736 1538.6 496.658 1543.21 Q493.602 1547.79 487.792 1547.79 Q481.982 1547.79 478.903 1543.21 Q475.848 1538.6 475.848 1529.87 Q475.848 1521.12 478.903 1516.54 Q481.982 1511.93 487.792 1511.93 Z\" fill=\"#000000\" fill-rule=\"evenodd\" fill-opacity=\"1\" /><path clip-path=\"url(#clip440)\" d=\"M507.954 1541.24 L512.838 1541.24 L512.838 1547.12 L507.954 1547.12 L507.954 1541.24 Z\" fill=\"#000000\" fill-rule=\"evenodd\" fill-opacity=\"1\" /><path clip-path=\"url(#clip440)\" d=\"M533.602 1527.98 Q530.454 1527.98 528.602 1530.13 Q526.773 1532.28 526.773 1536.03 Q526.773 1539.76 528.602 1541.93 Q530.454 1544.09 533.602 1544.09 Q536.75 1544.09 538.579 1541.93 Q540.431 1539.76 540.431 1536.03 Q540.431 1532.28 538.579 1530.13 Q536.75 1527.98 533.602 1527.98 M542.884 1513.32 L542.884 1517.58 Q541.125 1516.75 539.319 1516.31 Q537.537 1515.87 535.778 1515.87 Q531.148 1515.87 528.695 1519 Q526.264 1522.12 525.917 1528.44 Q527.282 1526.43 529.343 1525.36 Q531.403 1524.27 533.88 1524.27 Q539.088 1524.27 542.097 1527.44 Q545.13 1530.59 545.13 1536.03 Q545.13 1541.36 541.981 1544.57 Q538.833 1547.79 533.602 1547.79 Q527.607 1547.79 524.435 1543.21 Q521.264 1538.6 521.264 1529.87 Q521.264 1521.68 525.153 1516.82 Q529.042 1511.93 535.593 1511.93 Q537.352 1511.93 539.134 1512.28 Q540.94 1512.63 542.884 1513.32 Z\" fill=\"#000000\" fill-rule=\"evenodd\" fill-opacity=\"1\" /><path clip-path=\"url(#clip440)\" d=\"M860.857 1530.29 L890.533 1530.29 L890.533 1534.23 L860.857 1534.23 L860.857 1530.29 Z\" fill=\"#000000\" fill-rule=\"evenodd\" fill-opacity=\"1\" /><path clip-path=\"url(#clip440)\" d=\"M910.625 1515.64 Q907.014 1515.64 905.185 1519.2 Q903.38 1522.75 903.38 1529.87 Q903.38 1536.98 905.185 1540.55 Q907.014 1544.09 910.625 1544.09 Q914.259 1544.09 916.065 1540.55 Q917.894 1536.98 917.894 1529.87 Q917.894 1522.75 916.065 1519.2 Q914.259 1515.64 910.625 1515.64 M910.625 1511.93 Q916.435 1511.93 919.491 1516.54 Q922.57 1521.12 922.57 1529.87 Q922.57 1538.6 919.491 1543.21 Q916.435 1547.79 910.625 1547.79 Q904.815 1547.79 901.736 1543.21 Q898.681 1538.6 898.681 1529.87 Q898.681 1521.12 901.736 1516.54 Q904.815 1511.93 910.625 1511.93 Z\" fill=\"#000000\" fill-rule=\"evenodd\" fill-opacity=\"1\" /><path clip-path=\"url(#clip440)\" d=\"M930.787 1541.24 L935.671 1541.24 L935.671 1547.12 L930.787 1547.12 L930.787 1541.24 Z\" fill=\"#000000\" fill-rule=\"evenodd\" fill-opacity=\"1\" /><path clip-path=\"url(#clip440)\" d=\"M958.704 1516.63 L946.898 1535.08 L958.704 1535.08 L958.704 1516.63 M957.477 1512.56 L963.356 1512.56 L963.356 1535.08 L968.287 1535.08 L968.287 1538.97 L963.356 1538.97 L963.356 1547.12 L958.704 1547.12 L958.704 1538.97 L943.102 1538.97 L943.102 1534.46 L957.477 1512.56 Z\" fill=\"#000000\" fill-rule=\"evenodd\" fill-opacity=\"1\" /><path clip-path=\"url(#clip440)\" d=\"M1284.89 1530.29 L1314.57 1530.29 L1314.57 1534.23 L1284.89 1534.23 L1284.89 1530.29 Z\" fill=\"#000000\" fill-rule=\"evenodd\" fill-opacity=\"1\" /><path clip-path=\"url(#clip440)\" d=\"M1334.66 1515.64 Q1331.05 1515.64 1329.22 1519.2 Q1327.42 1522.75 1327.42 1529.87 Q1327.42 1536.98 1329.22 1540.55 Q1331.05 1544.09 1334.66 1544.09 Q1338.3 1544.09 1340.1 1540.55 Q1341.93 1536.98 1341.93 1529.87 Q1341.93 1522.75 1340.1 1519.2 Q1338.3 1515.64 1334.66 1515.64 M1334.66 1511.93 Q1340.47 1511.93 1343.53 1516.54 Q1346.61 1521.12 1346.61 1529.87 Q1346.61 1538.6 1343.53 1543.21 Q1340.47 1547.79 1334.66 1547.79 Q1328.85 1547.79 1325.77 1543.21 Q1322.72 1538.6 1322.72 1529.87 Q1322.72 1521.12 1325.77 1516.54 Q1328.85 1511.93 1334.66 1511.93 Z\" fill=\"#000000\" fill-rule=\"evenodd\" fill-opacity=\"1\" /><path clip-path=\"url(#clip440)\" d=\"M1354.82 1541.24 L1359.71 1541.24 L1359.71 1547.12 L1354.82 1547.12 L1354.82 1541.24 Z\" fill=\"#000000\" fill-rule=\"evenodd\" fill-opacity=\"1\" /><path clip-path=\"url(#clip440)\" d=\"M1373.92 1543.18 L1390.24 1543.18 L1390.24 1547.12 L1368.3 1547.12 L1368.3 1543.18 Q1370.96 1540.43 1375.54 1535.8 Q1380.15 1531.15 1381.33 1529.81 Q1383.57 1527.28 1384.45 1525.55 Q1385.36 1523.79 1385.36 1522.1 Q1385.36 1519.34 1383.41 1517.61 Q1381.49 1515.87 1378.39 1515.87 Q1376.19 1515.87 1373.74 1516.63 Q1371.31 1517.4 1368.53 1518.95 L1368.53 1514.23 Q1371.35 1513.09 1373.81 1512.51 Q1376.26 1511.93 1378.3 1511.93 Q1383.67 1511.93 1386.86 1514.62 Q1390.06 1517.31 1390.06 1521.8 Q1390.06 1523.93 1389.25 1525.85 Q1388.46 1527.74 1386.35 1530.34 Q1385.77 1531.01 1382.67 1534.23 Q1379.57 1537.42 1373.92 1543.18 Z\" fill=\"#000000\" fill-rule=\"evenodd\" fill-opacity=\"1\" /><path clip-path=\"url(#clip440)\" d=\"M1737.95 1515.64 Q1734.34 1515.64 1732.51 1519.2 Q1730.7 1522.75 1730.7 1529.87 Q1730.7 1536.98 1732.51 1540.55 Q1734.34 1544.09 1737.95 1544.09 Q1741.58 1544.09 1743.39 1540.55 Q1745.22 1536.98 1745.22 1529.87 Q1745.22 1522.75 1743.39 1519.2 Q1741.58 1515.64 1737.95 1515.64 M1737.95 1511.93 Q1743.76 1511.93 1746.81 1516.54 Q1749.89 1521.12 1749.89 1529.87 Q1749.89 1538.6 1746.81 1543.21 Q1743.76 1547.79 1737.95 1547.79 Q1732.14 1547.79 1729.06 1543.21 Q1726 1538.6 1726 1529.87 Q1726 1521.12 1729.06 1516.54 Q1732.14 1511.93 1737.95 1511.93 Z\" fill=\"#000000\" fill-rule=\"evenodd\" fill-opacity=\"1\" /><path clip-path=\"url(#clip440)\" d=\"M1758.11 1541.24 L1762.99 1541.24 L1762.99 1547.12 L1758.11 1547.12 L1758.11 1541.24 Z\" fill=\"#000000\" fill-rule=\"evenodd\" fill-opacity=\"1\" /><path clip-path=\"url(#clip440)\" d=\"M1783.18 1515.64 Q1779.57 1515.64 1777.74 1519.2 Q1775.93 1522.75 1775.93 1529.87 Q1775.93 1536.98 1777.74 1540.55 Q1779.57 1544.09 1783.18 1544.09 Q1786.81 1544.09 1788.62 1540.55 Q1790.45 1536.98 1790.45 1529.87 Q1790.45 1522.75 1788.62 1519.2 Q1786.81 1515.64 1783.18 1515.64 M1783.18 1511.93 Q1788.99 1511.93 1792.04 1516.54 Q1795.12 1521.12 1795.12 1529.87 Q1795.12 1538.6 1792.04 1543.21 Q1788.99 1547.79 1783.18 1547.79 Q1777.37 1547.79 1774.29 1543.21 Q1771.23 1538.6 1771.23 1529.87 Q1771.23 1521.12 1774.29 1516.54 Q1777.37 1511.93 1783.18 1511.93 Z\" fill=\"#000000\" fill-rule=\"evenodd\" fill-opacity=\"1\" /><path clip-path=\"url(#clip440)\" d=\"M2161.74 1515.64 Q2158.13 1515.64 2156.3 1519.2 Q2154.5 1522.75 2154.5 1529.87 Q2154.5 1536.98 2156.3 1540.55 Q2158.13 1544.09 2161.74 1544.09 Q2165.38 1544.09 2167.18 1540.55 Q2169.01 1536.98 2169.01 1529.87 Q2169.01 1522.75 2167.18 1519.2 Q2165.38 1515.64 2161.74 1515.64 M2161.74 1511.93 Q2167.55 1511.93 2170.61 1516.54 Q2173.69 1521.12 2173.69 1529.87 Q2173.69 1538.6 2170.61 1543.21 Q2167.55 1547.79 2161.74 1547.79 Q2155.93 1547.79 2152.85 1543.21 Q2149.8 1538.6 2149.8 1529.87 Q2149.8 1521.12 2152.85 1516.54 Q2155.93 1511.93 2161.74 1511.93 Z\" fill=\"#000000\" fill-rule=\"evenodd\" fill-opacity=\"1\" /><path clip-path=\"url(#clip440)\" d=\"M2181.9 1541.24 L2186.79 1541.24 L2186.79 1547.12 L2181.9 1547.12 L2181.9 1541.24 Z\" fill=\"#000000\" fill-rule=\"evenodd\" fill-opacity=\"1\" /><path clip-path=\"url(#clip440)\" d=\"M2201 1543.18 L2217.32 1543.18 L2217.32 1547.12 L2195.37 1547.12 L2195.37 1543.18 Q2198.04 1540.43 2202.62 1535.8 Q2207.23 1531.15 2208.41 1529.81 Q2210.65 1527.28 2211.53 1525.55 Q2212.43 1523.79 2212.43 1522.1 Q2212.43 1519.34 2210.49 1517.61 Q2208.57 1515.87 2205.47 1515.87 Q2203.27 1515.87 2200.81 1516.63 Q2198.38 1517.4 2195.61 1518.95 L2195.61 1514.23 Q2198.43 1513.09 2200.88 1512.51 Q2203.34 1511.93 2205.37 1511.93 Q2210.75 1511.93 2213.94 1514.62 Q2217.13 1517.31 2217.13 1521.8 Q2217.13 1523.93 2216.32 1525.85 Q2215.54 1527.74 2213.43 1530.34 Q2212.85 1531.01 2209.75 1534.23 Q2206.65 1537.42 2201 1543.18 Z\" fill=\"#000000\" fill-rule=\"evenodd\" fill-opacity=\"1\" /><polyline clip-path=\"url(#clip442)\" style=\"stroke:#000000; stroke-linecap:butt; stroke-linejoin:round; stroke-width:2; stroke-opacity:0.1; fill:none\" points=\"\n",
       "  110.881,1389.41 2352.76,1389.41 \n",
       "  \"/>\n",
       "<polyline clip-path=\"url(#clip442)\" style=\"stroke:#000000; stroke-linecap:butt; stroke-linejoin:round; stroke-width:2; stroke-opacity:0.1; fill:none\" points=\"\n",
       "  110.881,1040.28 2352.76,1040.28 \n",
       "  \"/>\n",
       "<polyline clip-path=\"url(#clip442)\" style=\"stroke:#000000; stroke-linecap:butt; stroke-linejoin:round; stroke-width:2; stroke-opacity:0.1; fill:none\" points=\"\n",
       "  110.881,691.153 2352.76,691.153 \n",
       "  \"/>\n",
       "<polyline clip-path=\"url(#clip442)\" style=\"stroke:#000000; stroke-linecap:butt; stroke-linejoin:round; stroke-width:2; stroke-opacity:0.1; fill:none\" points=\"\n",
       "  110.881,342.027 2352.76,342.027 \n",
       "  \"/>\n",
       "<polyline clip-path=\"url(#clip440)\" style=\"stroke:#000000; stroke-linecap:butt; stroke-linejoin:round; stroke-width:4; stroke-opacity:1; fill:none\" points=\"\n",
       "  110.881,1486.45 110.881,47.2441 \n",
       "  \"/>\n",
       "<polyline clip-path=\"url(#clip440)\" style=\"stroke:#000000; stroke-linecap:butt; stroke-linejoin:round; stroke-width:4; stroke-opacity:1; fill:none\" points=\"\n",
       "  110.881,1389.41 129.779,1389.41 \n",
       "  \"/>\n",
       "<polyline clip-path=\"url(#clip440)\" style=\"stroke:#000000; stroke-linecap:butt; stroke-linejoin:round; stroke-width:4; stroke-opacity:1; fill:none\" points=\"\n",
       "  110.881,1040.28 129.779,1040.28 \n",
       "  \"/>\n",
       "<polyline clip-path=\"url(#clip440)\" style=\"stroke:#000000; stroke-linecap:butt; stroke-linejoin:round; stroke-width:4; stroke-opacity:1; fill:none\" points=\"\n",
       "  110.881,691.153 129.779,691.153 \n",
       "  \"/>\n",
       "<polyline clip-path=\"url(#clip440)\" style=\"stroke:#000000; stroke-linecap:butt; stroke-linejoin:round; stroke-width:4; stroke-opacity:1; fill:none\" points=\"\n",
       "  110.881,342.027 129.779,342.027 \n",
       "  \"/>\n",
       "<path clip-path=\"url(#clip440)\" d=\"M62.9365 1375.2 Q59.3254 1375.2 57.4967 1378.77 Q55.6912 1382.31 55.6912 1389.44 Q55.6912 1396.55 57.4967 1400.11 Q59.3254 1403.65 62.9365 1403.65 Q66.5707 1403.65 68.3763 1400.11 Q70.205 1396.55 70.205 1389.44 Q70.205 1382.31 68.3763 1378.77 Q66.5707 1375.2 62.9365 1375.2 M62.9365 1371.5 Q68.7467 1371.5 71.8022 1376.11 Q74.8809 1380.69 74.8809 1389.44 Q74.8809 1398.17 71.8022 1402.77 Q68.7467 1407.36 62.9365 1407.36 Q57.1264 1407.36 54.0477 1402.77 Q50.9921 1398.17 50.9921 1389.44 Q50.9921 1380.69 54.0477 1376.11 Q57.1264 1371.5 62.9365 1371.5 Z\" fill=\"#000000\" fill-rule=\"evenodd\" fill-opacity=\"1\" /><path clip-path=\"url(#clip440)\" d=\"M54.9736 1053.62 L62.6124 1053.62 L62.6124 1027.26 L54.3023 1028.93 L54.3023 1024.67 L62.5661 1023 L67.242 1023 L67.242 1053.62 L74.8809 1053.62 L74.8809 1057.56 L54.9736 1057.56 L54.9736 1053.62 Z\" fill=\"#000000\" fill-rule=\"evenodd\" fill-opacity=\"1\" /><path clip-path=\"url(#clip440)\" d=\"M58.5615 704.498 L74.8809 704.498 L74.8809 708.433 L52.9366 708.433 L52.9366 704.498 Q55.5986 701.743 60.1819 697.113 Q64.7883 692.461 65.9689 691.118 Q68.2143 688.595 69.0939 686.859 Q69.9967 685.1 69.9967 683.41 Q69.9967 680.655 68.0522 678.919 Q66.1309 677.183 63.0291 677.183 Q60.83 677.183 58.3763 677.947 Q55.9458 678.711 53.168 680.262 L53.168 675.54 Q55.9921 674.405 58.4458 673.827 Q60.8995 673.248 62.9365 673.248 Q68.3068 673.248 71.5013 675.933 Q74.6957 678.618 74.6957 683.109 Q74.6957 685.239 73.8855 687.16 Q73.0985 689.058 70.992 691.651 Q70.4133 692.322 67.3115 695.539 Q64.2096 698.734 58.5615 704.498 Z\" fill=\"#000000\" fill-rule=\"evenodd\" fill-opacity=\"1\" /><path clip-path=\"url(#clip440)\" d=\"M67.7513 340.672 Q71.1078 341.39 72.9827 343.659 Q74.8809 345.927 74.8809 349.26 Q74.8809 354.376 71.3624 357.177 Q67.8439 359.978 61.3624 359.978 Q59.1865 359.978 56.8717 359.538 Q54.5801 359.121 52.1264 358.265 L52.1264 353.751 Q54.0708 354.885 56.3856 355.464 Q58.7004 356.043 61.2236 356.043 Q65.6217 356.043 67.9133 354.307 Q70.2281 352.571 70.2281 349.26 Q70.2281 346.205 68.0754 344.492 Q65.9457 342.756 62.1263 342.756 L58.0986 342.756 L58.0986 338.913 L62.3115 338.913 Q65.7606 338.913 67.5893 337.547 Q69.418 336.159 69.418 333.566 Q69.418 330.904 67.5198 329.492 Q65.6448 328.057 62.1263 328.057 Q60.205 328.057 58.006 328.473 Q55.8069 328.89 53.168 329.77 L53.168 325.603 Q55.8301 324.862 58.1449 324.492 Q60.4828 324.122 62.543 324.122 Q67.867 324.122 70.9689 326.552 Q74.0707 328.96 74.0707 333.08 Q74.0707 335.95 72.4272 337.941 Q70.7837 339.909 67.7513 340.672 Z\" fill=\"#000000\" fill-rule=\"evenodd\" fill-opacity=\"1\" /><polyline clip-path=\"url(#clip442)\" style=\"stroke:#009af9; stroke-linecap:butt; stroke-linejoin:round; stroke-width:4; stroke-opacity:1; fill:none\" points=\"\n",
       "  174.33,1389.41 184.657,1394.91 194.985,1400.12 290.475,1434.53 385.965,1445.72 443.351,1442.15 500.736,1431.43 549.255,1417.13 597.774,1398.33 703.184,1343.33 \n",
       "  800.363,1277.46 904.549,1193.33 1025.26,1081.97 1132.53,973.814 1226.6,874.359 1329.16,763.526 1432.33,652.121 1546.4,532.297 1654.93,424.781 1767.77,323.142 \n",
       "  1862.77,248.167 1920.76,208.123 1978.74,172.999 2033.26,144.898 2087.77,121.967 2175.1,97.0046 2262.43,87.9763 2275.87,88.1061 2289.31,88.658 \n",
       "  \"/>\n",
       "</svg>\n"
      ]
     },
     "execution_count": 19,
     "metadata": {},
     "output_type": "execute_result"
    }
   ],
   "source": [
    "Plots.plot(p, -0.75, 0.25, legend = false)"
   ]
  },
  {
   "cell_type": "code",
   "execution_count": 20,
   "id": "18bba7dd",
   "metadata": {},
   "outputs": [
    {
     "data": {
      "image/svg+xml": [
       "<?xml version=\"1.0\" encoding=\"utf-8\"?>\n",
       "<svg xmlns=\"http://www.w3.org/2000/svg\" xmlns:xlink=\"http://www.w3.org/1999/xlink\" width=\"600\" height=\"400\" viewBox=\"0 0 2400 1600\">\n",
       "<defs>\n",
       "  <clipPath id=\"clip480\">\n",
       "    <rect x=\"0\" y=\"0\" width=\"2400\" height=\"1600\"/>\n",
       "  </clipPath>\n",
       "</defs>\n",
       "<path clip-path=\"url(#clip480)\" d=\"\n",
       "M0 1600 L2400 1600 L2400 0 L0 0  Z\n",
       "  \" fill=\"#ffffff\" fill-rule=\"evenodd\" fill-opacity=\"1\"/>\n",
       "<defs>\n",
       "  <clipPath id=\"clip481\">\n",
       "    <rect x=\"480\" y=\"0\" width=\"1681\" height=\"1600\"/>\n",
       "  </clipPath>\n",
       "</defs>\n",
       "<path clip-path=\"url(#clip480)\" d=\"\n",
       "M224.098 1486.45 L2352.76 1486.45 L2352.76 47.2441 L224.098 47.2441  Z\n",
       "  \" fill=\"#ffffff\" fill-rule=\"evenodd\" fill-opacity=\"1\"/>\n",
       "<defs>\n",
       "  <clipPath id=\"clip482\">\n",
       "    <rect x=\"224\" y=\"47\" width=\"2130\" height=\"1440\"/>\n",
       "  </clipPath>\n",
       "</defs>\n",
       "<polyline clip-path=\"url(#clip482)\" style=\"stroke:#000000; stroke-linecap:butt; stroke-linejoin:round; stroke-width:2; stroke-opacity:0.1; fill:none\" points=\"\n",
       "  585.568,1486.45 585.568,47.2441 \n",
       "  \"/>\n",
       "<polyline clip-path=\"url(#clip482)\" style=\"stroke:#000000; stroke-linecap:butt; stroke-linejoin:round; stroke-width:2; stroke-opacity:0.1; fill:none\" points=\"\n",
       "  987.202,1486.45 987.202,47.2441 \n",
       "  \"/>\n",
       "<polyline clip-path=\"url(#clip482)\" style=\"stroke:#000000; stroke-linecap:butt; stroke-linejoin:round; stroke-width:2; stroke-opacity:0.1; fill:none\" points=\"\n",
       "  1388.84,1486.45 1388.84,47.2441 \n",
       "  \"/>\n",
       "<polyline clip-path=\"url(#clip482)\" style=\"stroke:#000000; stroke-linecap:butt; stroke-linejoin:round; stroke-width:2; stroke-opacity:0.1; fill:none\" points=\"\n",
       "  1790.47,1486.45 1790.47,47.2441 \n",
       "  \"/>\n",
       "<polyline clip-path=\"url(#clip482)\" style=\"stroke:#000000; stroke-linecap:butt; stroke-linejoin:round; stroke-width:2; stroke-opacity:0.1; fill:none\" points=\"\n",
       "  2192.1,1486.45 2192.1,47.2441 \n",
       "  \"/>\n",
       "<polyline clip-path=\"url(#clip480)\" style=\"stroke:#000000; stroke-linecap:butt; stroke-linejoin:round; stroke-width:4; stroke-opacity:1; fill:none\" points=\"\n",
       "  224.098,1486.45 2352.76,1486.45 \n",
       "  \"/>\n",
       "<polyline clip-path=\"url(#clip480)\" style=\"stroke:#000000; stroke-linecap:butt; stroke-linejoin:round; stroke-width:4; stroke-opacity:1; fill:none\" points=\"\n",
       "  585.568,1486.45 585.568,1467.55 \n",
       "  \"/>\n",
       "<polyline clip-path=\"url(#clip480)\" style=\"stroke:#000000; stroke-linecap:butt; stroke-linejoin:round; stroke-width:4; stroke-opacity:1; fill:none\" points=\"\n",
       "  987.202,1486.45 987.202,1467.55 \n",
       "  \"/>\n",
       "<polyline clip-path=\"url(#clip480)\" style=\"stroke:#000000; stroke-linecap:butt; stroke-linejoin:round; stroke-width:4; stroke-opacity:1; fill:none\" points=\"\n",
       "  1388.84,1486.45 1388.84,1467.55 \n",
       "  \"/>\n",
       "<polyline clip-path=\"url(#clip480)\" style=\"stroke:#000000; stroke-linecap:butt; stroke-linejoin:round; stroke-width:4; stroke-opacity:1; fill:none\" points=\"\n",
       "  1790.47,1486.45 1790.47,1467.55 \n",
       "  \"/>\n",
       "<polyline clip-path=\"url(#clip480)\" style=\"stroke:#000000; stroke-linecap:butt; stroke-linejoin:round; stroke-width:4; stroke-opacity:1; fill:none\" points=\"\n",
       "  2192.1,1486.45 2192.1,1467.55 \n",
       "  \"/>\n",
       "<path clip-path=\"url(#clip480)\" d=\"M532.015 1530.29 L561.691 1530.29 L561.691 1534.23 L532.015 1534.23 L532.015 1530.29 Z\" fill=\"#000000\" fill-rule=\"evenodd\" fill-opacity=\"1\" /><path clip-path=\"url(#clip480)\" d=\"M581.783 1515.64 Q578.172 1515.64 576.344 1519.2 Q574.538 1522.75 574.538 1529.87 Q574.538 1536.98 576.344 1540.55 Q578.172 1544.09 581.783 1544.09 Q585.418 1544.09 587.223 1540.55 Q589.052 1536.98 589.052 1529.87 Q589.052 1522.75 587.223 1519.2 Q585.418 1515.64 581.783 1515.64 M581.783 1511.93 Q587.594 1511.93 590.649 1516.54 Q593.728 1521.12 593.728 1529.87 Q593.728 1538.6 590.649 1543.21 Q587.594 1547.79 581.783 1547.79 Q575.973 1547.79 572.895 1543.21 Q569.839 1538.6 569.839 1529.87 Q569.839 1521.12 572.895 1516.54 Q575.973 1511.93 581.783 1511.93 Z\" fill=\"#000000\" fill-rule=\"evenodd\" fill-opacity=\"1\" /><path clip-path=\"url(#clip480)\" d=\"M601.945 1541.24 L606.83 1541.24 L606.83 1547.12 L601.945 1547.12 L601.945 1541.24 Z\" fill=\"#000000\" fill-rule=\"evenodd\" fill-opacity=\"1\" /><path clip-path=\"url(#clip480)\" d=\"M627.593 1527.98 Q624.445 1527.98 622.593 1530.13 Q620.765 1532.28 620.765 1536.03 Q620.765 1539.76 622.593 1541.93 Q624.445 1544.09 627.593 1544.09 Q630.741 1544.09 632.57 1541.93 Q634.422 1539.76 634.422 1536.03 Q634.422 1532.28 632.57 1530.13 Q630.741 1527.98 627.593 1527.98 M636.876 1513.32 L636.876 1517.58 Q635.116 1516.75 633.311 1516.31 Q631.529 1515.87 629.769 1515.87 Q625.14 1515.87 622.686 1519 Q620.255 1522.12 619.908 1528.44 Q621.274 1526.43 623.334 1525.36 Q625.394 1524.27 627.871 1524.27 Q633.079 1524.27 636.089 1527.44 Q639.121 1530.59 639.121 1536.03 Q639.121 1541.36 635.973 1544.57 Q632.825 1547.79 627.593 1547.79 Q621.598 1547.79 618.427 1543.21 Q615.255 1538.6 615.255 1529.87 Q615.255 1521.68 619.144 1516.82 Q623.033 1511.93 629.584 1511.93 Q631.343 1511.93 633.126 1512.28 Q634.931 1512.63 636.876 1513.32 Z\" fill=\"#000000\" fill-rule=\"evenodd\" fill-opacity=\"1\" /><path clip-path=\"url(#clip480)\" d=\"M933.487 1530.29 L963.162 1530.29 L963.162 1534.23 L933.487 1534.23 L933.487 1530.29 Z\" fill=\"#000000\" fill-rule=\"evenodd\" fill-opacity=\"1\" /><path clip-path=\"url(#clip480)\" d=\"M983.255 1515.64 Q979.644 1515.64 977.815 1519.2 Q976.01 1522.75 976.01 1529.87 Q976.01 1536.98 977.815 1540.55 Q979.644 1544.09 983.255 1544.09 Q986.889 1544.09 988.695 1540.55 Q990.523 1536.98 990.523 1529.87 Q990.523 1522.75 988.695 1519.2 Q986.889 1515.64 983.255 1515.64 M983.255 1511.93 Q989.065 1511.93 992.121 1516.54 Q995.199 1521.12 995.199 1529.87 Q995.199 1538.6 992.121 1543.21 Q989.065 1547.79 983.255 1547.79 Q977.445 1547.79 974.366 1543.21 Q971.311 1538.6 971.311 1529.87 Q971.311 1521.12 974.366 1516.54 Q977.445 1511.93 983.255 1511.93 Z\" fill=\"#000000\" fill-rule=\"evenodd\" fill-opacity=\"1\" /><path clip-path=\"url(#clip480)\" d=\"M1003.42 1541.24 L1008.3 1541.24 L1008.3 1547.12 L1003.42 1547.12 L1003.42 1541.24 Z\" fill=\"#000000\" fill-rule=\"evenodd\" fill-opacity=\"1\" /><path clip-path=\"url(#clip480)\" d=\"M1031.33 1516.63 L1019.53 1535.08 L1031.33 1535.08 L1031.33 1516.63 M1030.11 1512.56 L1035.99 1512.56 L1035.99 1535.08 L1040.92 1535.08 L1040.92 1538.97 L1035.99 1538.97 L1035.99 1547.12 L1031.33 1547.12 L1031.33 1538.97 L1015.73 1538.97 L1015.73 1534.46 L1030.11 1512.56 Z\" fill=\"#000000\" fill-rule=\"evenodd\" fill-opacity=\"1\" /><path clip-path=\"url(#clip480)\" d=\"M1336.16 1530.29 L1365.84 1530.29 L1365.84 1534.23 L1336.16 1534.23 L1336.16 1530.29 Z\" fill=\"#000000\" fill-rule=\"evenodd\" fill-opacity=\"1\" /><path clip-path=\"url(#clip480)\" d=\"M1385.93 1515.64 Q1382.32 1515.64 1380.49 1519.2 Q1378.68 1522.75 1378.68 1529.87 Q1378.68 1536.98 1380.49 1540.55 Q1382.32 1544.09 1385.93 1544.09 Q1389.56 1544.09 1391.37 1540.55 Q1393.2 1536.98 1393.2 1529.87 Q1393.2 1522.75 1391.37 1519.2 Q1389.56 1515.64 1385.93 1515.64 M1385.93 1511.93 Q1391.74 1511.93 1394.8 1516.54 Q1397.87 1521.12 1397.87 1529.87 Q1397.87 1538.6 1394.8 1543.21 Q1391.74 1547.79 1385.93 1547.79 Q1380.12 1547.79 1377.04 1543.21 Q1373.99 1538.6 1373.99 1529.87 Q1373.99 1521.12 1377.04 1516.54 Q1380.12 1511.93 1385.93 1511.93 Z\" fill=\"#000000\" fill-rule=\"evenodd\" fill-opacity=\"1\" /><path clip-path=\"url(#clip480)\" d=\"M1406.09 1541.24 L1410.98 1541.24 L1410.98 1547.12 L1406.09 1547.12 L1406.09 1541.24 Z\" fill=\"#000000\" fill-rule=\"evenodd\" fill-opacity=\"1\" /><path clip-path=\"url(#clip480)\" d=\"M1425.19 1543.18 L1441.51 1543.18 L1441.51 1547.12 L1419.56 1547.12 L1419.56 1543.18 Q1422.23 1540.43 1426.81 1535.8 Q1431.42 1531.15 1432.6 1529.81 Q1434.84 1527.28 1435.72 1525.55 Q1436.62 1523.79 1436.62 1522.1 Q1436.62 1519.34 1434.68 1517.61 Q1432.76 1515.87 1429.66 1515.87 Q1427.46 1515.87 1425 1516.63 Q1422.57 1517.4 1419.8 1518.95 L1419.8 1514.23 Q1422.62 1513.09 1425.07 1512.51 Q1427.53 1511.93 1429.56 1511.93 Q1434.93 1511.93 1438.13 1514.62 Q1441.32 1517.31 1441.32 1521.8 Q1441.32 1523.93 1440.51 1525.85 Q1439.73 1527.74 1437.62 1530.34 Q1437.04 1531.01 1433.94 1534.23 Q1430.84 1537.42 1425.19 1543.18 Z\" fill=\"#000000\" fill-rule=\"evenodd\" fill-opacity=\"1\" /><path clip-path=\"url(#clip480)\" d=\"M1767.85 1515.64 Q1764.24 1515.64 1762.41 1519.2 Q1760.61 1522.75 1760.61 1529.87 Q1760.61 1536.98 1762.41 1540.55 Q1764.24 1544.09 1767.85 1544.09 Q1771.49 1544.09 1773.29 1540.55 Q1775.12 1536.98 1775.12 1529.87 Q1775.12 1522.75 1773.29 1519.2 Q1771.49 1515.64 1767.85 1515.64 M1767.85 1511.93 Q1773.66 1511.93 1776.72 1516.54 Q1779.8 1521.12 1779.8 1529.87 Q1779.8 1538.6 1776.72 1543.21 Q1773.66 1547.79 1767.85 1547.79 Q1762.04 1547.79 1758.96 1543.21 Q1755.91 1538.6 1755.91 1529.87 Q1755.91 1521.12 1758.96 1516.54 Q1762.04 1511.93 1767.85 1511.93 Z\" fill=\"#000000\" fill-rule=\"evenodd\" fill-opacity=\"1\" /><path clip-path=\"url(#clip480)\" d=\"M1788.02 1541.24 L1792.9 1541.24 L1792.9 1547.12 L1788.02 1547.12 L1788.02 1541.24 Z\" fill=\"#000000\" fill-rule=\"evenodd\" fill-opacity=\"1\" /><path clip-path=\"url(#clip480)\" d=\"M1813.08 1515.64 Q1809.47 1515.64 1807.64 1519.2 Q1805.84 1522.75 1805.84 1529.87 Q1805.84 1536.98 1807.64 1540.55 Q1809.47 1544.09 1813.08 1544.09 Q1816.72 1544.09 1818.52 1540.55 Q1820.35 1536.98 1820.35 1529.87 Q1820.35 1522.75 1818.52 1519.2 Q1816.72 1515.64 1813.08 1515.64 M1813.08 1511.93 Q1818.89 1511.93 1821.95 1516.54 Q1825.03 1521.12 1825.03 1529.87 Q1825.03 1538.6 1821.95 1543.21 Q1818.89 1547.79 1813.08 1547.79 Q1807.27 1547.79 1804.2 1543.21 Q1801.14 1538.6 1801.14 1529.87 Q1801.14 1521.12 1804.2 1516.54 Q1807.27 1511.93 1813.08 1511.93 Z\" fill=\"#000000\" fill-rule=\"evenodd\" fill-opacity=\"1\" /><path clip-path=\"url(#clip480)\" d=\"M2170.29 1515.64 Q2166.67 1515.64 2164.85 1519.2 Q2163.04 1522.75 2163.04 1529.87 Q2163.04 1536.98 2164.85 1540.55 Q2166.67 1544.09 2170.29 1544.09 Q2173.92 1544.09 2175.73 1540.55 Q2177.55 1536.98 2177.55 1529.87 Q2177.55 1522.75 2175.73 1519.2 Q2173.92 1515.64 2170.29 1515.64 M2170.29 1511.93 Q2176.1 1511.93 2179.15 1516.54 Q2182.23 1521.12 2182.23 1529.87 Q2182.23 1538.6 2179.15 1543.21 Q2176.1 1547.79 2170.29 1547.79 Q2164.48 1547.79 2161.4 1543.21 Q2158.34 1538.6 2158.34 1529.87 Q2158.34 1521.12 2161.4 1516.54 Q2164.48 1511.93 2170.29 1511.93 Z\" fill=\"#000000\" fill-rule=\"evenodd\" fill-opacity=\"1\" /><path clip-path=\"url(#clip480)\" d=\"M2190.45 1541.24 L2195.33 1541.24 L2195.33 1547.12 L2190.45 1547.12 L2190.45 1541.24 Z\" fill=\"#000000\" fill-rule=\"evenodd\" fill-opacity=\"1\" /><path clip-path=\"url(#clip480)\" d=\"M2209.54 1543.18 L2225.86 1543.18 L2225.86 1547.12 L2203.92 1547.12 L2203.92 1543.18 Q2206.58 1540.43 2211.16 1535.8 Q2215.77 1531.15 2216.95 1529.81 Q2219.2 1527.28 2220.08 1525.55 Q2220.98 1523.79 2220.98 1522.1 Q2220.98 1519.34 2219.04 1517.61 Q2217.11 1515.87 2214.01 1515.87 Q2211.81 1515.87 2209.36 1516.63 Q2206.93 1517.4 2204.15 1518.95 L2204.15 1514.23 Q2206.98 1513.09 2209.43 1512.51 Q2211.88 1511.93 2213.92 1511.93 Q2219.29 1511.93 2222.48 1514.62 Q2225.68 1517.31 2225.68 1521.8 Q2225.68 1523.93 2224.87 1525.85 Q2224.08 1527.74 2221.97 1530.34 Q2221.4 1531.01 2218.29 1534.23 Q2215.19 1537.42 2209.54 1543.18 Z\" fill=\"#000000\" fill-rule=\"evenodd\" fill-opacity=\"1\" /><polyline clip-path=\"url(#clip482)\" style=\"stroke:#000000; stroke-linecap:butt; stroke-linejoin:round; stroke-width:2; stroke-opacity:0.1; fill:none\" points=\"\n",
       "  224.098,1459.68 2352.76,1459.68 \n",
       "  \"/>\n",
       "<polyline clip-path=\"url(#clip482)\" style=\"stroke:#000000; stroke-linecap:butt; stroke-linejoin:round; stroke-width:2; stroke-opacity:0.1; fill:none\" points=\"\n",
       "  224.098,1147.75 2352.76,1147.75 \n",
       "  \"/>\n",
       "<polyline clip-path=\"url(#clip482)\" style=\"stroke:#000000; stroke-linecap:butt; stroke-linejoin:round; stroke-width:2; stroke-opacity:0.1; fill:none\" points=\"\n",
       "  224.098,835.815 2352.76,835.815 \n",
       "  \"/>\n",
       "<polyline clip-path=\"url(#clip482)\" style=\"stroke:#000000; stroke-linecap:butt; stroke-linejoin:round; stroke-width:2; stroke-opacity:0.1; fill:none\" points=\"\n",
       "  224.098,523.884 2352.76,523.884 \n",
       "  \"/>\n",
       "<polyline clip-path=\"url(#clip482)\" style=\"stroke:#000000; stroke-linecap:butt; stroke-linejoin:round; stroke-width:2; stroke-opacity:0.1; fill:none\" points=\"\n",
       "  224.098,211.953 2352.76,211.953 \n",
       "  \"/>\n",
       "<polyline clip-path=\"url(#clip480)\" style=\"stroke:#000000; stroke-linecap:butt; stroke-linejoin:round; stroke-width:4; stroke-opacity:1; fill:none\" points=\"\n",
       "  224.098,1486.45 224.098,47.2441 \n",
       "  \"/>\n",
       "<polyline clip-path=\"url(#clip480)\" style=\"stroke:#000000; stroke-linecap:butt; stroke-linejoin:round; stroke-width:4; stroke-opacity:1; fill:none\" points=\"\n",
       "  224.098,1459.68 242.996,1459.68 \n",
       "  \"/>\n",
       "<polyline clip-path=\"url(#clip480)\" style=\"stroke:#000000; stroke-linecap:butt; stroke-linejoin:round; stroke-width:4; stroke-opacity:1; fill:none\" points=\"\n",
       "  224.098,1147.75 242.996,1147.75 \n",
       "  \"/>\n",
       "<polyline clip-path=\"url(#clip480)\" style=\"stroke:#000000; stroke-linecap:butt; stroke-linejoin:round; stroke-width:4; stroke-opacity:1; fill:none\" points=\"\n",
       "  224.098,835.815 242.996,835.815 \n",
       "  \"/>\n",
       "<polyline clip-path=\"url(#clip480)\" style=\"stroke:#000000; stroke-linecap:butt; stroke-linejoin:round; stroke-width:4; stroke-opacity:1; fill:none\" points=\"\n",
       "  224.098,523.884 242.996,523.884 \n",
       "  \"/>\n",
       "<polyline clip-path=\"url(#clip480)\" style=\"stroke:#000000; stroke-linecap:butt; stroke-linejoin:round; stroke-width:4; stroke-opacity:1; fill:none\" points=\"\n",
       "  224.098,211.953 242.996,211.953 \n",
       "  \"/>\n",
       "<path clip-path=\"url(#clip480)\" d=\"M50.9921 1460.13 L80.6679 1460.13 L80.6679 1464.06 L50.9921 1464.06 L50.9921 1460.13 Z\" fill=\"#000000\" fill-rule=\"evenodd\" fill-opacity=\"1\" /><path clip-path=\"url(#clip480)\" d=\"M91.5706 1473.02 L99.2095 1473.02 L99.2095 1446.66 L90.8993 1448.32 L90.8993 1444.06 L99.1632 1442.4 L103.839 1442.4 L103.839 1473.02 L111.478 1473.02 L111.478 1476.96 L91.5706 1476.96 L91.5706 1473.02 Z\" fill=\"#000000\" fill-rule=\"evenodd\" fill-opacity=\"1\" /><path clip-path=\"url(#clip480)\" d=\"M130.922 1445.48 Q127.311 1445.48 125.482 1449.04 Q123.677 1452.58 123.677 1459.71 Q123.677 1466.82 125.482 1470.38 Q127.311 1473.93 130.922 1473.93 Q134.556 1473.93 136.362 1470.38 Q138.191 1466.82 138.191 1459.71 Q138.191 1452.58 136.362 1449.04 Q134.556 1445.48 130.922 1445.48 M130.922 1441.77 Q136.732 1441.77 139.788 1446.38 Q142.867 1450.96 142.867 1459.71 Q142.867 1468.44 139.788 1473.05 Q136.732 1477.63 130.922 1477.63 Q125.112 1477.63 122.033 1473.05 Q118.978 1468.44 118.978 1459.71 Q118.978 1450.96 122.033 1446.38 Q125.112 1441.77 130.922 1441.77 Z\" fill=\"#000000\" fill-rule=\"evenodd\" fill-opacity=\"1\" /><path clip-path=\"url(#clip480)\" d=\"M151.084 1471.08 L155.968 1471.08 L155.968 1476.96 L151.084 1476.96 L151.084 1471.08 Z\" fill=\"#000000\" fill-rule=\"evenodd\" fill-opacity=\"1\" /><path clip-path=\"url(#clip480)\" d=\"M176.153 1445.48 Q172.542 1445.48 170.714 1449.04 Q168.908 1452.58 168.908 1459.71 Q168.908 1466.82 170.714 1470.38 Q172.542 1473.93 176.153 1473.93 Q179.788 1473.93 181.593 1470.38 Q183.422 1466.82 183.422 1459.71 Q183.422 1452.58 181.593 1449.04 Q179.788 1445.48 176.153 1445.48 M176.153 1441.77 Q181.964 1441.77 185.019 1446.38 Q188.098 1450.96 188.098 1459.71 Q188.098 1468.44 185.019 1473.05 Q181.964 1477.63 176.153 1477.63 Q170.343 1477.63 167.265 1473.05 Q164.209 1468.44 164.209 1459.71 Q164.209 1450.96 167.265 1446.38 Q170.343 1441.77 176.153 1441.77 Z\" fill=\"#000000\" fill-rule=\"evenodd\" fill-opacity=\"1\" /><path clip-path=\"url(#clip480)\" d=\"M82.1494 1148.2 L111.825 1148.2 L111.825 1152.13 L82.1494 1152.13 L82.1494 1148.2 Z\" fill=\"#000000\" fill-rule=\"evenodd\" fill-opacity=\"1\" /><path clip-path=\"url(#clip480)\" d=\"M120.737 1130.47 L142.959 1130.47 L142.959 1132.46 L130.413 1165.03 L125.529 1165.03 L137.334 1134.4 L120.737 1134.4 L120.737 1130.47 Z\" fill=\"#000000\" fill-rule=\"evenodd\" fill-opacity=\"1\" /><path clip-path=\"url(#clip480)\" d=\"M152.08 1159.15 L156.964 1159.15 L156.964 1165.03 L152.08 1165.03 L152.08 1159.15 Z\" fill=\"#000000\" fill-rule=\"evenodd\" fill-opacity=\"1\" /><path clip-path=\"url(#clip480)\" d=\"M167.195 1130.47 L185.552 1130.47 L185.552 1134.4 L171.478 1134.4 L171.478 1142.87 Q172.496 1142.53 173.515 1142.36 Q174.533 1142.18 175.552 1142.18 Q181.339 1142.18 184.718 1145.35 Q188.098 1148.52 188.098 1153.94 Q188.098 1159.52 184.626 1162.62 Q181.153 1165.7 174.834 1165.7 Q172.658 1165.7 170.39 1165.33 Q168.144 1164.96 165.737 1164.22 L165.737 1159.52 Q167.82 1160.65 170.042 1161.21 Q172.265 1161.76 174.741 1161.76 Q178.746 1161.76 181.084 1159.66 Q183.422 1157.55 183.422 1153.94 Q183.422 1150.33 181.084 1148.22 Q178.746 1146.11 174.741 1146.11 Q172.866 1146.11 170.991 1146.53 Q169.14 1146.95 167.195 1147.83 L167.195 1130.47 Z\" fill=\"#000000\" fill-rule=\"evenodd\" fill-opacity=\"1\" /><path clip-path=\"url(#clip480)\" d=\"M81.154 836.267 L110.83 836.267 L110.83 840.202 L81.154 840.202 L81.154 836.267 Z\" fill=\"#000000\" fill-rule=\"evenodd\" fill-opacity=\"1\" /><path clip-path=\"url(#clip480)\" d=\"M120.969 818.535 L139.325 818.535 L139.325 822.47 L125.251 822.47 L125.251 830.943 Q126.27 830.595 127.288 830.433 Q128.307 830.248 129.325 830.248 Q135.112 830.248 138.492 833.419 Q141.871 836.591 141.871 842.007 Q141.871 847.586 138.399 850.688 Q134.927 853.767 128.607 853.767 Q126.432 853.767 124.163 853.396 Q121.918 853.026 119.51 852.285 L119.51 847.586 Q121.594 848.72 123.816 849.276 Q126.038 849.831 128.515 849.831 Q132.519 849.831 134.857 847.725 Q137.195 845.618 137.195 842.007 Q137.195 838.396 134.857 836.29 Q132.519 834.183 128.515 834.183 Q126.64 834.183 124.765 834.6 Q122.913 835.017 120.969 835.896 L120.969 818.535 Z\" fill=\"#000000\" fill-rule=\"evenodd\" fill-opacity=\"1\" /><path clip-path=\"url(#clip480)\" d=\"M151.084 847.216 L155.968 847.216 L155.968 853.095 L151.084 853.095 L151.084 847.216 Z\" fill=\"#000000\" fill-rule=\"evenodd\" fill-opacity=\"1\" /><path clip-path=\"url(#clip480)\" d=\"M176.153 821.614 Q172.542 821.614 170.714 825.179 Q168.908 828.72 168.908 835.85 Q168.908 842.956 170.714 846.521 Q172.542 850.063 176.153 850.063 Q179.788 850.063 181.593 846.521 Q183.422 842.956 183.422 835.85 Q183.422 828.72 181.593 825.179 Q179.788 821.614 176.153 821.614 M176.153 817.91 Q181.964 817.91 185.019 822.517 Q188.098 827.1 188.098 835.85 Q188.098 844.577 185.019 849.183 Q181.964 853.767 176.153 853.767 Q170.343 853.767 167.265 849.183 Q164.209 844.577 164.209 835.85 Q164.209 827.1 167.265 822.517 Q170.343 817.91 176.153 817.91 Z\" fill=\"#000000\" fill-rule=\"evenodd\" fill-opacity=\"1\" /><path clip-path=\"url(#clip480)\" d=\"M82.1494 524.336 L111.825 524.336 L111.825 528.271 L82.1494 528.271 L82.1494 524.336 Z\" fill=\"#000000\" fill-rule=\"evenodd\" fill-opacity=\"1\" /><path clip-path=\"url(#clip480)\" d=\"M125.945 537.229 L142.265 537.229 L142.265 541.164 L120.32 541.164 L120.32 537.229 Q122.982 534.474 127.566 529.845 Q132.172 525.192 133.353 523.849 Q135.598 521.326 136.478 519.59 Q137.381 517.831 137.381 516.141 Q137.381 513.387 135.436 511.65 Q133.515 509.914 130.413 509.914 Q128.214 509.914 125.76 510.678 Q123.33 511.442 120.552 512.993 L120.552 508.271 Q123.376 507.137 125.83 506.558 Q128.283 505.979 130.32 505.979 Q135.691 505.979 138.885 508.664 Q142.08 511.35 142.08 515.84 Q142.08 517.97 141.269 519.891 Q140.482 521.789 138.376 524.382 Q137.797 525.053 134.695 528.271 Q131.594 531.465 125.945 537.229 Z\" fill=\"#000000\" fill-rule=\"evenodd\" fill-opacity=\"1\" /><path clip-path=\"url(#clip480)\" d=\"M152.08 535.285 L156.964 535.285 L156.964 541.164 L152.08 541.164 L152.08 535.285 Z\" fill=\"#000000\" fill-rule=\"evenodd\" fill-opacity=\"1\" /><path clip-path=\"url(#clip480)\" d=\"M167.195 506.604 L185.552 506.604 L185.552 510.539 L171.478 510.539 L171.478 519.012 Q172.496 518.664 173.515 518.502 Q174.533 518.317 175.552 518.317 Q181.339 518.317 184.718 521.488 Q188.098 524.66 188.098 530.076 Q188.098 535.655 184.626 538.757 Q181.153 541.835 174.834 541.835 Q172.658 541.835 170.39 541.465 Q168.144 541.095 165.737 540.354 L165.737 535.655 Q167.82 536.789 170.042 537.345 Q172.265 537.9 174.741 537.9 Q178.746 537.9 181.084 535.794 Q183.422 533.687 183.422 530.076 Q183.422 526.465 181.084 524.359 Q178.746 522.252 174.741 522.252 Q172.866 522.252 170.991 522.669 Q169.14 523.086 167.195 523.965 L167.195 506.604 Z\" fill=\"#000000\" fill-rule=\"evenodd\" fill-opacity=\"1\" /><path clip-path=\"url(#clip480)\" d=\"M130.922 197.752 Q127.311 197.752 125.482 201.317 Q123.677 204.858 123.677 211.988 Q123.677 219.094 125.482 222.659 Q127.311 226.201 130.922 226.201 Q134.556 226.201 136.362 222.659 Q138.191 219.094 138.191 211.988 Q138.191 204.858 136.362 201.317 Q134.556 197.752 130.922 197.752 M130.922 194.048 Q136.732 194.048 139.788 198.655 Q142.867 203.238 142.867 211.988 Q142.867 220.715 139.788 225.321 Q136.732 229.904 130.922 229.904 Q125.112 229.904 122.033 225.321 Q118.978 220.715 118.978 211.988 Q118.978 203.238 122.033 198.655 Q125.112 194.048 130.922 194.048 Z\" fill=\"#000000\" fill-rule=\"evenodd\" fill-opacity=\"1\" /><path clip-path=\"url(#clip480)\" d=\"M151.084 223.353 L155.968 223.353 L155.968 229.233 L151.084 229.233 L151.084 223.353 Z\" fill=\"#000000\" fill-rule=\"evenodd\" fill-opacity=\"1\" /><path clip-path=\"url(#clip480)\" d=\"M176.153 197.752 Q172.542 197.752 170.714 201.317 Q168.908 204.858 168.908 211.988 Q168.908 219.094 170.714 222.659 Q172.542 226.201 176.153 226.201 Q179.788 226.201 181.593 222.659 Q183.422 219.094 183.422 211.988 Q183.422 204.858 181.593 201.317 Q179.788 197.752 176.153 197.752 M176.153 194.048 Q181.964 194.048 185.019 198.655 Q188.098 203.238 188.098 211.988 Q188.098 220.715 185.019 225.321 Q181.964 229.904 176.153 229.904 Q170.343 229.904 167.265 225.321 Q164.209 220.715 164.209 211.988 Q164.209 203.238 167.265 198.655 Q170.343 194.048 176.153 194.048 Z\" fill=\"#000000\" fill-rule=\"evenodd\" fill-opacity=\"1\" /><polyline clip-path=\"url(#clip482)\" style=\"stroke:#009af9; stroke-linecap:butt; stroke-linejoin:round; stroke-width:4; stroke-opacity:1; fill:none\" points=\"\n",
       "  284.343,1445.72 289.246,1433.25 294.149,1420.86 299.051,1408.54 303.954,1396.29 349.288,1286.52 394.622,1182.85 439.956,1085.12 485.29,993.175 539.778,890.071 \n",
       "  594.265,794.785 640.334,720.108 686.402,650.64 736.446,580.878 786.489,516.836 832.625,462.668 878.76,412.997 928.223,364.54 977.685,320.835 1034.99,275.858 \n",
       "  1092.3,236.636 1194.15,180.091 1283.47,143.116 1380.85,114.674 1478.81,96.943 1587.12,88.0301 1690.17,87.9763 1797.32,94.5077 1887.51,103.627 1997.63,117.238 \n",
       "  2101.15,130.524 2266.99,147.779 2292.51,149.567 \n",
       "  \"/>\n",
       "</svg>\n"
      ]
     },
     "execution_count": 20,
     "metadata": {},
     "output_type": "execute_result"
    }
   ],
   "source": [
    "Plots.plot(q, -0.75, 0.25, legend = false)"
   ]
  },
  {
   "cell_type": "markdown",
   "id": "1f808d9b",
   "metadata": {},
   "source": [
    "# Q8(c)"
   ]
  },
  {
   "cell_type": "code",
   "execution_count": 21,
   "id": "cbcb1cb4",
   "metadata": {},
   "outputs": [
    {
     "data": {
      "text/plain": [
       "14×6 Matrix{Int64}:\n",
       " 1  -1   0  0   0   0\n",
       " 0   0   0  1  -1   0\n",
       " 1   0  -1  0   0   0\n",
       " 0   0   0  1   0  -1\n",
       " 1   0   0  0   0   0\n",
       " 0   0   0  1   0   0\n",
       " 0   1   0  0   0   0\n",
       " 0   0   0  0   1   0\n",
       " 0   0   1  0   0   0\n",
       " 0   0   0  0   0   1\n",
       " 0   0   1  0   0   0\n",
       " 0   0   0  0   0   1\n",
       " 0   1   0  0   0   0\n",
       " 0   0   0  0   1   0"
      ]
     },
     "execution_count": 21,
     "metadata": {},
     "output_type": "execute_result"
    }
   ],
   "source": [
    "A = [1 -1 0 0 0 0; \n",
    "0 0 0 1 -1 0;\n",
    "1 0 -1 0 0 0;\n",
    "0 0 0 1 0 -1;\n",
    "1 0 0 0 0 0;\n",
    "0 0 0 1 0 0;\n",
    "0 1 0 0 0 0;\n",
    "0 0 0 0 1 0;\n",
    "0 0 1 0 0 0;\n",
    "0 0 0 0 0 1;\n",
    "0 0 1 0 0 0;\n",
    "0 0 0 0 0 1;\n",
    "0 1 0 0 0 0;\n",
    "0 0 0 0 1 0]"
   ]
  },
  {
   "cell_type": "code",
   "execution_count": 22,
   "id": "04fc6f6f",
   "metadata": {},
   "outputs": [
    {
     "data": {
      "text/plain": [
       "14-element Vector{Float64}:\n",
       "  0.0\n",
       "  0.0\n",
       "  0.0\n",
       "  0.0\n",
       " -1.0\n",
       "  0.0\n",
       "  0.5\n",
       "  1.0\n",
       "  0.0\n",
       " -1.0\n",
       "  1.0\n",
       "  0.5\n",
       "  1.0\n",
       "  0.5"
      ]
     },
     "execution_count": 22,
     "metadata": {},
     "output_type": "execute_result"
    }
   ],
   "source": [
    "b = [0, 0, 0, 0, -1, 0, 0.5, 1, 0, -1, 1, 0.5, 1, 0.5]"
   ]
  },
  {
   "cell_type": "code",
   "execution_count": 27,
   "id": "409fa787",
   "metadata": {},
   "outputs": [
    {
     "data": {
      "text/plain": [
       "6-element Vector{Float64}:\n",
       " -0.07142857142857142\n",
       "  0.4761904761904762\n",
       "  0.30952380952380953\n",
       "  0.14285714285714288\n",
       "  0.5476190476190477\n",
       " -0.11904761904761905"
      ]
     },
     "execution_count": 27,
     "metadata": {},
     "output_type": "execute_result"
    }
   ],
   "source": [
    "X = A\\b"
   ]
  },
  {
   "cell_type": "code",
   "execution_count": 23,
   "id": "e0693065",
   "metadata": {},
   "outputs": [
    {
     "data": {
      "text/plain": [
       "7×3 Matrix{Int64}:\n",
       " 1  -1   0\n",
       " 1   0  -1\n",
       " 1   0   0\n",
       " 0   1   0\n",
       " 0   0   1\n",
       " 0   0   1\n",
       " 0   1   0"
      ]
     },
     "execution_count": 23,
     "metadata": {},
     "output_type": "execute_result"
    }
   ],
   "source": [
    "Ā = [1 -1 0;\n",
    "1 0 -1;\n",
    "1 0 0 ;\n",
    "0 1 0;\n",
    "0 0 1;\n",
    "0 0 1;\n",
    "0 1 0]"
   ]
  },
  {
   "cell_type": "code",
   "execution_count": 24,
   "id": "329ae7e6",
   "metadata": {},
   "outputs": [
    {
     "data": {
      "text/plain": [
       "7-element Vector{Float64}:\n",
       "  0.0\n",
       "  0.0\n",
       " -1.0\n",
       "  0.5\n",
       "  0.0\n",
       "  1.0\n",
       "  1.0"
      ]
     },
     "execution_count": 24,
     "metadata": {},
     "output_type": "execute_result"
    }
   ],
   "source": [
    "b̄=[0, 0, -1, 0.5, 0, 1, 1]"
   ]
  },
  {
   "cell_type": "code",
   "execution_count": 28,
   "id": "2ac3d7fa",
   "metadata": {},
   "outputs": [
    {
     "data": {
      "text/plain": [
       "3-element Vector{Float64}:\n",
       " -0.07142857142857142\n",
       "  0.4761904761904762\n",
       "  0.30952380952380953"
      ]
     },
     "execution_count": 28,
     "metadata": {},
     "output_type": "execute_result"
    }
   ],
   "source": [
    "u = Ā\\b̄"
   ]
  },
  {
   "cell_type": "code",
   "execution_count": 25,
   "id": "c86f8990",
   "metadata": {},
   "outputs": [
    {
     "data": {
      "text/plain": [
       "7×3 Matrix{Int64}:\n",
       " 1  -1   0\n",
       " 1   0  -1\n",
       " 1   0   0\n",
       " 0   1   0\n",
       " 0   0   1\n",
       " 0   0   1\n",
       " 0   1   0"
      ]
     },
     "execution_count": 25,
     "metadata": {},
     "output_type": "execute_result"
    }
   ],
   "source": [
    "Ã = [1 -1 0;\n",
    "1 0 -1;\n",
    "1 0 0;\n",
    "0 1 0;\n",
    "0 0 1;\n",
    "0 0 1;\n",
    "0 1 0\n",
    "]"
   ]
  },
  {
   "cell_type": "code",
   "execution_count": 26,
   "id": "1804293d",
   "metadata": {},
   "outputs": [
    {
     "data": {
      "text/plain": [
       "7-element Vector{Float64}:\n",
       "  0.0\n",
       "  0.0\n",
       "  0.0\n",
       "  1.0\n",
       " -1.0\n",
       "  0.5\n",
       "  0.5"
      ]
     },
     "execution_count": 26,
     "metadata": {},
     "output_type": "execute_result"
    }
   ],
   "source": [
    "b̃ = [0, 0, 0, 1, -1, 0.5, 0.5]"
   ]
  },
  {
   "cell_type": "code",
   "execution_count": 29,
   "id": "c01e70af",
   "metadata": {},
   "outputs": [
    {
     "data": {
      "text/plain": [
       "3-element Vector{Float64}:\n",
       "  0.14285714285714288\n",
       "  0.5476190476190477\n",
       " -0.11904761904761905"
      ]
     },
     "execution_count": 29,
     "metadata": {},
     "output_type": "execute_result"
    }
   ],
   "source": [
    "v = Ã\\b̃"
   ]
  }
 ],
 "metadata": {
  "kernelspec": {
   "display_name": "Julia 1.6.2",
   "language": "julia",
   "name": "julia-1.6"
  },
  "language_info": {
   "file_extension": ".jl",
   "mimetype": "application/julia",
   "name": "julia",
   "version": "1.6.2"
  }
 },
 "nbformat": 4,
 "nbformat_minor": 5
}
